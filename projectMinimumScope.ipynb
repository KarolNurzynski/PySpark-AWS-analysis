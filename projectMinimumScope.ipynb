{
 "cells": [
  {
   "cell_type": "code",
   "execution_count": 1,
   "id": "01ac3428-66b4-440b-9b7f-9c7690cfa8b2",
   "metadata": {
    "execution": {
     "iopub.execute_input": "2022-05-30T20:40:14.650311Z",
     "iopub.status.busy": "2022-05-30T20:40:14.647834Z",
     "iopub.status.idle": "2022-05-30T20:40:16.531778Z",
     "shell.execute_reply": "2022-05-30T20:40:16.530759Z",
     "shell.execute_reply.started": "2022-05-30T20:40:14.650258Z"
    },
    "tags": []
   },
   "outputs": [
    {
     "data": {
      "text/html": [
       "Current session configs: <tt>{'conf': {'spark.jars.packages': 'com.databricks:spark-xml_2.12:0.14.0', 'spark.pyspark.python': 'python3', 'spark.pyspark.virtualenv.enabled': 'true', 'spark.pyspark.virtualenv.type': 'native', 'spark.pyspark.virtualenv.bin.path': '/usr/bin/virtualenv'}, 'kind': 'pyspark'}</tt><br>"
      ],
      "text/plain": [
       "<IPython.core.display.HTML object>"
      ]
     },
     "metadata": {},
     "output_type": "display_data"
    },
    {
     "data": {
      "text/html": [
       "No active sessions."
      ],
      "text/plain": [
       "<IPython.core.display.HTML object>"
      ]
     },
     "metadata": {},
     "output_type": "display_data"
    }
   ],
   "source": [
    "%%configure -f\n",
    "{\n",
    "    \"conf\": {\n",
    "        \"spark.jars.packages\": \"com.databricks:spark-xml_2.12:0.14.0\",\n",
    "        \"spark.pyspark.python\": \"python3\",\n",
    "        \"spark.pyspark.virtualenv.enabled\": \"true\",\n",
    "        \"spark.pyspark.virtualenv.type\":\"native\",\n",
    "        \"spark.pyspark.virtualenv.bin.path\":\"/usr/bin/virtualenv\"\n",
    "    }\n",
    "}"
   ]
  },
  {
   "cell_type": "code",
   "execution_count": 2,
   "id": "cae7bf00-837e-413b-b12a-9e8a78a111ac",
   "metadata": {
    "execution": {
     "iopub.execute_input": "2022-05-30T20:40:16.535475Z",
     "iopub.status.busy": "2022-05-30T20:40:16.533629Z",
     "iopub.status.idle": "2022-05-30T20:42:23.025744Z",
     "shell.execute_reply": "2022-05-30T20:42:23.024928Z",
     "shell.execute_reply.started": "2022-05-30T20:40:16.535413Z"
    },
    "tags": []
   },
   "outputs": [
    {
     "data": {
      "application/vnd.jupyter.widget-view+json": {
       "model_id": "dca0c2d5874f4b9c9774f5c3facd9e9d",
       "version_major": 2,
       "version_minor": 0
      },
      "text/plain": [
       "VBox()"
      ]
     },
     "metadata": {},
     "output_type": "display_data"
    },
    {
     "name": "stdout",
     "output_type": "stream",
     "text": [
      "Starting Spark application\n"
     ]
    },
    {
     "data": {
      "text/html": [
       "<table>\n",
       "<tr><th>ID</th><th>YARN Application ID</th><th>Kind</th><th>State</th><th>Spark UI</th><th>Driver log</th><th>Current session?</th></tr><tr><td>0</td><td>application_1653941471604_0001</td><td>pyspark</td><td>idle</td><td><a target=\"_blank\" href=\"http://ip-172-31-6-103.eu-central-1.compute.internal:20888/proxy/application_1653941471604_0001/\">Link</a></td><td><a target=\"_blank\" href=\"http://ip-172-31-8-99.eu-central-1.compute.internal:8042/node/containerlogs/container_1653941471604_0001_01_000001/livy\">Link</a></td><td>✔</td></tr></table>"
      ],
      "text/plain": [
       "<IPython.core.display.HTML object>"
      ]
     },
     "metadata": {},
     "output_type": "display_data"
    },
    {
     "data": {
      "application/vnd.jupyter.widget-view+json": {
       "model_id": "",
       "version_major": 2,
       "version_minor": 0
      },
      "text/plain": [
       "FloatProgress(value=0.0, bar_style='info', description='Progress:', layout=Layout(height='25px', width='50%'),…"
      ]
     },
     "metadata": {},
     "output_type": "display_data"
    },
    {
     "name": "stdout",
     "output_type": "stream",
     "text": [
      "SparkSession available as 'spark'.\n"
     ]
    },
    {
     "data": {
      "application/vnd.jupyter.widget-view+json": {
       "model_id": "",
       "version_major": 2,
       "version_minor": 0
      },
      "text/plain": [
       "FloatProgress(value=0.0, bar_style='info', description='Progress:', layout=Layout(height='25px', width='50%'),…"
      ]
     },
     "metadata": {},
     "output_type": "display_data"
    },
    {
     "name": "stdout",
     "output_type": "stream",
     "text": [
      "Collecting pandas==1.1.0\n",
      "  Downloading https://files.pythonhosted.org/packages/94/b1/f77f49cc7cc538b247f30c2ae7e3a50f29e44f0b1af32ff4869d7de3c762/pandas-1.1.0-cp37-cp37m-manylinux1_x86_64.whl (10.5MB)\n",
      "Requirement already satisfied: numpy>=1.15.4 in /usr/local/lib64/python3.7/site-packages (from pandas==1.1.0)\n",
      "Requirement already satisfied: pytz>=2017.2 in /usr/local/lib/python3.7/site-packages (from pandas==1.1.0)\n",
      "Collecting python-dateutil>=2.7.3 (from pandas==1.1.0)\n",
      "  Downloading https://files.pythonhosted.org/packages/36/7a/87837f39d0296e723bb9b62bbb257d0355c7f6128853c78955f57342a56d/python_dateutil-2.8.2-py2.py3-none-any.whl (247kB)\n",
      "Requirement already satisfied: six>=1.5 in /usr/local/lib/python3.7/site-packages (from python-dateutil>=2.7.3->pandas==1.1.0)\n",
      "Installing collected packages: python-dateutil, pandas\n",
      "Successfully installed pandas-1.1.0 python-dateutil-2.8.2\n",
      "\n",
      "Collecting matplotlib==3.0.0\n",
      "  Downloading https://files.pythonhosted.org/packages/1e/92/923b86132669ce39b7b0096a402cc78a5b70f22423f8b59bbd7bb7ff9403/matplotlib-3.0.0-cp37-cp37m-manylinux1_x86_64.whl (12.8MB)\n",
      "Requirement already satisfied: numpy>=1.10.0 in /usr/local/lib64/python3.7/site-packages (from matplotlib==3.0.0)\n",
      "Requirement already satisfied: python-dateutil>=2.1 in /mnt/tmp/1653943282952-0/lib/python3.7/site-packages (from matplotlib==3.0.0)\n",
      "Collecting pyparsing!=2.0.4,!=2.1.2,!=2.1.6,>=2.0.1 (from matplotlib==3.0.0)\n",
      "  Downloading https://files.pythonhosted.org/packages/6c/10/a7d0fa5baea8fe7b50f448ab742f26f52b80bfca85ac2be9d35cdd9a3246/pyparsing-3.0.9-py3-none-any.whl (98kB)\n",
      "Collecting cycler>=0.10 (from matplotlib==3.0.0)\n",
      "  Downloading https://files.pythonhosted.org/packages/5c/f9/695d6bedebd747e5eb0fe8fad57b72fdf25411273a39791cde838d5a8f51/cycler-0.11.0-py3-none-any.whl\n",
      "Collecting kiwisolver>=1.0.1 (from matplotlib==3.0.0)\n",
      "  Downloading https://files.pythonhosted.org/packages/51/50/9a9a94afa26c50fc5d9127272737806990aa698c7a1c220b8e5075e70304/kiwisolver-1.4.2-cp37-cp37m-manylinux_2_5_x86_64.manylinux1_x86_64.whl (1.1MB)\n",
      "Requirement already satisfied: six>=1.5 in /usr/local/lib/python3.7/site-packages (from python-dateutil>=2.1->matplotlib==3.0.0)\n",
      "Collecting typing-extensions; python_version < \"3.8\" (from kiwisolver>=1.0.1->matplotlib==3.0.0)\n",
      "  Downloading https://files.pythonhosted.org/packages/75/e1/932e06004039dd670c9d5e1df0cd606bf46e29a28e65d5bb28e894ea29c9/typing_extensions-4.2.0-py3-none-any.whl\n",
      "Installing collected packages: pyparsing, cycler, typing-extensions, kiwisolver, matplotlib\n",
      "Successfully installed cycler-0.11.0 kiwisolver-1.4.2 matplotlib-3.0.0 pyparsing-3.0.9 typing-extensions-4.2.0"
     ]
    }
   ],
   "source": [
    "sc.install_pypi_package(\"pandas==1.1.0\")\n",
    "sc.install_pypi_package(\"matplotlib==3.0.0\")\n",
    "from pyspark.sql.functions import ceil, col, count, desc, unix_timestamp, window\n",
    "import matplotlib.pyplot as plot"
   ]
  },
  {
   "cell_type": "code",
   "execution_count": 3,
   "id": "a426f81f-765c-4c43-8f88-acb48a195600",
   "metadata": {
    "execution": {
     "iopub.execute_input": "2022-05-30T20:42:23.034127Z",
     "iopub.status.busy": "2022-05-30T20:42:23.033870Z",
     "iopub.status.idle": "2022-05-30T20:42:23.437876Z",
     "shell.execute_reply": "2022-05-30T20:42:23.435736Z",
     "shell.execute_reply.started": "2022-05-30T20:42:23.034091Z"
    },
    "tags": []
   },
   "outputs": [
    {
     "data": {
      "application/vnd.jupyter.widget-view+json": {
       "model_id": "a489c8720caf43ddab0971098fbfd8fb",
       "version_major": 2,
       "version_minor": 0
      },
      "text/plain": [
       "VBox()"
      ]
     },
     "metadata": {},
     "output_type": "display_data"
    },
    {
     "data": {
      "application/vnd.jupyter.widget-view+json": {
       "model_id": "",
       "version_major": 2,
       "version_minor": 0
      },
      "text/plain": [
       "FloatProgress(value=0.0, bar_style='info', description='Progress:', layout=Layout(height='25px', width='50%'),…"
      ]
     },
     "metadata": {},
     "output_type": "display_data"
    }
   ],
   "source": [
    "postsXmlPath = 's3://kn-praca-dyplomowa-sports/superuser_data/Posts.xml'\n",
    "postsParquetPath = 's3://kn-praca-dyplomowa-sports/superuser_data/out/Posts'\n",
    "postHistoryXmlPath = 's3://kn-praca-dyplomowa-sports/superuser_data/PostHistory.xml'\n",
    "postHistoryParquetPath = 's3://kn-praca-dyplomowa-sports/superuser_data/out/PostHistory'\n",
    "commentsXmlPath = 's3://kn-praca-dyplomowa-sports/superuser_data/Comments.xml'\n",
    "commentsParquetPath = 's3://kn-praca-dyplomowa-sports/superuser_data/out/Comments'\n",
    "usersXmlPath = 's3://kn-praca-dyplomowa-sports/superuser_data/Users.xml'\n",
    "usersParquetPath = 's3://kn-praca-dyplomowa-sports/superuser_data/out/Users'"
   ]
  },
  {
   "cell_type": "code",
   "execution_count": 54,
   "id": "9f434c35-c8f1-424f-83e9-1b83a6567d51",
   "metadata": {
    "execution": {
     "iopub.execute_input": "2022-05-30T21:04:45.291750Z",
     "iopub.status.busy": "2022-05-30T21:04:45.291498Z",
     "iopub.status.idle": "2022-05-30T21:09:59.150786Z",
     "shell.execute_reply": "2022-05-30T21:09:59.149874Z",
     "shell.execute_reply.started": "2022-05-30T21:04:45.291720Z"
    },
    "tags": []
   },
   "outputs": [
    {
     "data": {
      "application/vnd.jupyter.widget-view+json": {
       "model_id": "e4e637dd3125469c94a696973b3e1f28",
       "version_major": 2,
       "version_minor": 0
      },
      "text/plain": [
       "VBox()"
      ]
     },
     "metadata": {},
     "output_type": "display_data"
    },
    {
     "data": {
      "application/vnd.jupyter.widget-view+json": {
       "model_id": "",
       "version_major": 2,
       "version_minor": 0
      },
      "text/plain": [
       "FloatProgress(value=0.0, bar_style='info', description='Progress:', layout=Layout(height='25px', width='50%'),…"
      ]
     },
     "metadata": {},
     "output_type": "display_data"
    }
   ],
   "source": [
    "from pyspark.sql.functions import length\n",
    "\n",
    "(\n",
    "spark\n",
    ".read\n",
    ".format('xml')\n",
    ".option(\"rowTag\", \"row\")\n",
    ".load(postsXmlPath)\n",
    ".select(\n",
    "    col('_Id').alias('id'),\n",
    "    col('_PostTypeId').alias('postTypeId'),\n",
    "    col('_AcceptedAnswerId').alias('acceptedAnswerId'),\n",
    "    (col('_CreationDate').cast('timestamp')).alias('creationDate'),\n",
    "    col('_OwnerUserId').alias('ownerUserId'),\n",
    "    col('_ParentId').alias('parentId'),\n",
    "    col('_Score').alias('score'),\n",
    "    col('_ViewCount').alias('viewCount'),\n",
    "    col('_Body').alias('body'),\n",
    "    col('_AnswerCount').alias('answerCount'),\n",
    "    col('_Tags').alias('tags'),\n",
    "    col('_Title').alias('title'),\n",
    ")\n",
    ".write\n",
    ".mode('overwrite')\n",
    ".format('parquet')\n",
    ".option('path', postsParquetPath)\n",
    ".save()\n",
    ")"
   ]
  },
  {
   "cell_type": "code",
   "execution_count": 55,
   "id": "4382b19a-d9d9-4ae5-917f-ae6e2bc5248e",
   "metadata": {
    "execution": {
     "iopub.execute_input": "2022-05-30T21:09:59.153035Z",
     "iopub.status.busy": "2022-05-30T21:09:59.152755Z",
     "iopub.status.idle": "2022-05-30T21:10:41.399317Z",
     "shell.execute_reply": "2022-05-30T21:10:41.398293Z",
     "shell.execute_reply.started": "2022-05-30T21:09:59.152996Z"
    },
    "tags": []
   },
   "outputs": [
    {
     "data": {
      "application/vnd.jupyter.widget-view+json": {
       "model_id": "4ccaa1b414a14edf89374ee17586522e",
       "version_major": 2,
       "version_minor": 0
      },
      "text/plain": [
       "VBox()"
      ]
     },
     "metadata": {},
     "output_type": "display_data"
    },
    {
     "data": {
      "application/vnd.jupyter.widget-view+json": {
       "model_id": "",
       "version_major": 2,
       "version_minor": 0
      },
      "text/plain": [
       "FloatProgress(value=0.0, bar_style='info', description='Progress:', layout=Layout(height='25px', width='50%'),…"
      ]
     },
     "metadata": {},
     "output_type": "display_data"
    },
    {
     "name": "stdout",
     "output_type": "stream",
     "text": [
      "+-------+-----------------+------------------+------------------+------------------+-----------------+------------------+------------------+--------------------+---------------+------------------+--------------------+\n",
      "|summary|               id|        postTypeId|  acceptedAnswerId|       ownerUserId|         parentId|             score|         viewCount|                body|           tags|       answerCount|               title|\n",
      "+-------+-----------------+------------------+------------------+------------------+-----------------+------------------+------------------+--------------------+---------------+------------------+--------------------+\n",
      "|  count|          1159934|           1159934|            192647|           1130323|           682102|           1159934|            470283|             1159934|         470283|            470283|              470283|\n",
      "|   mean|818774.4867690748|1.6108951026523923| 747775.3927182879| 319091.3533591725|695777.3822038346| 2.781882417447889| 5775.582532219961|                null|           null| 1.450407520578035|                null|\n",
      "| stddev|491414.0436287993|0.5447973665771916|480786.07767561974|353765.71977008163|480105.0488046632|13.988797205182141|27673.666872868565|                null|           null|1.4573549300323494|                null|\n",
      "|    min|                1|                 1|                42|                -1|                1|               -69|                 2|                    |<.bash-profile>|                 0| Anyone have a su...|\n",
      "|    max|          1691314|                 8|           1691286|           1646794|          1691313|              2761|           3299196|☠  ℕ  ℍ ! ☣ DO NO...|       <zypper>|                40|⌘+C in vscode wit...|\n",
      "+-------+-----------------+------------------+------------------+------------------+-----------------+------------------+------------------+--------------------+---------------+------------------+--------------------+"
     ]
    }
   ],
   "source": [
    "from pyspark.sql.functions import length\n",
    "\n",
    "posts = spark.read.parquet(postsParquetPath).select(\n",
    "    'id',\n",
    "    'postTypeId',\n",
    "    'acceptedAnswerId',\n",
    "    'creationDate',\n",
    "    'ownerUserId',\n",
    "    'parentId',\n",
    "    'score',\n",
    "    'viewCount',\n",
    "    'body',\n",
    "    'tags',\n",
    "    'answerCount',\n",
    "    'title'\n",
    ").cache()\n",
    "\n",
    "posts.describe().show()"
   ]
  },
  {
   "cell_type": "code",
   "execution_count": 14,
   "id": "d5b90f77-5c9e-41d4-8178-f65722046156",
   "metadata": {
    "execution": {
     "iopub.execute_input": "2022-05-30T20:53:14.188322Z",
     "iopub.status.busy": "2022-05-30T20:53:14.187503Z",
     "iopub.status.idle": "2022-05-30T20:53:15.041429Z",
     "shell.execute_reply": "2022-05-30T20:53:14.537029Z",
     "shell.execute_reply.started": "2022-05-30T20:53:14.188220Z"
    },
    "tags": []
   },
   "outputs": [
    {
     "data": {
      "application/vnd.jupyter.widget-view+json": {
       "model_id": "3c49ea20b0dc4b64909d266ff959488b",
       "version_major": 2,
       "version_minor": 0
      },
      "text/plain": [
       "VBox()"
      ]
     },
     "metadata": {},
     "output_type": "display_data"
    },
    {
     "data": {
      "application/vnd.jupyter.widget-view+json": {
       "model_id": "",
       "version_major": 2,
       "version_minor": 0
      },
      "text/plain": [
       "FloatProgress(value=0.0, bar_style='info', description='Progress:', layout=Layout(height='25px', width='50%'),…"
      ]
     },
     "metadata": {},
     "output_type": "display_data"
    }
   ],
   "source": [
    "questions = posts.filter(col('postTypeId') == 1).cache()\n",
    "answers = posts.filter(col('postTypeId') == 2).cache()"
   ]
  },
  {
   "cell_type": "code",
   "execution_count": null,
   "id": "4dd0946e-a467-4cae-967a-b18b7c4f14e2",
   "metadata": {
    "execution": {
     "iopub.execute_input": "2022-05-30T20:49:26.817724Z",
     "iopub.status.busy": "2022-05-30T20:49:26.817367Z",
     "iopub.status.idle": "2022-05-30T20:49:29.725384Z"
    },
    "tags": []
   },
   "outputs": [
    {
     "data": {
      "application/vnd.jupyter.widget-view+json": {
       "model_id": "010176bbfeb543749dfed9c9da741500",
       "version_major": 2,
       "version_minor": 0
      },
      "text/plain": [
       "VBox()"
      ]
     },
     "metadata": {},
     "output_type": "display_data"
    },
    {
     "data": {
      "application/vnd.jupyter.widget-view+json": {
       "model_id": "",
       "version_major": 2,
       "version_minor": 0
      },
      "text/plain": [
       "FloatProgress(value=0.0, bar_style='info', description='Progress:', layout=Layout(height='25px', width='50%'),…"
      ]
     },
     "metadata": {},
     "output_type": "display_data"
    },
    {
     "name": "stdout",
     "output_type": "stream",
     "text": [
      "+-------+----------+----------------+--------------------+-----------+--------+-----+---------+--------------------+--------------------+-----------+\n",
      "|     id|postTypeId|acceptedAnswerId|        creationDate|ownerUserId|parentId|score|viewCount|                body|                tags|answerCount|\n",
      "+-------+----------+----------------+--------------------+-----------+--------+-----+---------+--------------------+--------------------+-----------+\n",
      "|1665063|         1|            null|2021-07-27 23:10:...|    1476016|    null|    0|       19|<p>I'm working in...|<microsoft-excel>...|          0|\n",
      "|1665064|         1|         1665155|2021-07-27 23:24:...|      62286|    null|    0|      110|<p>I've written a...|<command-line><ff...|          1|\n",
      "|1665066|         1|            null|2021-07-27 23:35:...|    1476043|    null|    1|       55|<p>My PC 'died' a...|<motherboard><pow...|          0|\n",
      "|1665070|         1|            null|2021-07-28 00:33:...|    1476085|    null|    1|        9|<p>I am a newbie ...|       <python><m4a>|          0|\n",
      "|1665072|         1|            null|2021-07-28 01:19:...|    1476106|    null|    0|       36|<p>I am trying to...|<linux><macos><mo...|          0|\n",
      "+-------+----------+----------------+--------------------+-----------+--------+-----+---------+--------------------+--------------------+-----------+\n",
      "only showing top 5 rows"
     ]
    }
   ],
   "source": [
    "questions.show(5)"
   ]
  },
  {
   "cell_type": "code",
   "execution_count": null,
   "id": "4a6ce357-e1a3-42b9-a2a9-d6d61025b78b",
   "metadata": {
    "execution": {
     "iopub.execute_input": "2022-05-30T20:49:29.749668Z",
     "iopub.status.busy": "2022-05-30T20:49:29.749286Z",
     "iopub.status.idle": "2022-05-30T20:49:30.845314Z"
    },
    "tags": []
   },
   "outputs": [
    {
     "data": {
      "application/vnd.jupyter.widget-view+json": {
       "model_id": "371aed80f035432a8d42d15370d447ea",
       "version_major": 2,
       "version_minor": 0
      },
      "text/plain": [
       "VBox()"
      ]
     },
     "metadata": {},
     "output_type": "display_data"
    },
    {
     "data": {
      "application/vnd.jupyter.widget-view+json": {
       "model_id": "",
       "version_major": 2,
       "version_minor": 0
      },
      "text/plain": [
       "FloatProgress(value=0.0, bar_style='info', description='Progress:', layout=Layout(height='25px', width='50%'),…"
      ]
     },
     "metadata": {},
     "output_type": "display_data"
    }
   ],
   "source": [
    "# PART A"
   ]
  },
  {
   "cell_type": "code",
   "execution_count": null,
   "id": "e42ed4d7-a2dd-437e-a3a1-7211ed32972a",
   "metadata": {
    "execution": {
     "iopub.execute_input": "2022-05-30T20:49:30.849230Z",
     "iopub.status.busy": "2022-05-30T20:49:30.848981Z",
     "iopub.status.idle": "2022-05-30T20:49:45.743967Z"
    },
    "tags": []
   },
   "outputs": [
    {
     "data": {
      "application/vnd.jupyter.widget-view+json": {
       "model_id": "cff0504821184f4b8409b32c8c3c18fc",
       "version_major": 2,
       "version_minor": 0
      },
      "text/plain": [
       "VBox()"
      ]
     },
     "metadata": {},
     "output_type": "display_data"
    },
    {
     "data": {
      "application/vnd.jupyter.widget-view+json": {
       "model_id": "",
       "version_major": 2,
       "version_minor": 0
      },
      "text/plain": [
       "FloatProgress(value=0.0, bar_style='info', description='Progress:', layout=Layout(height='25px', width='50%'),…"
      ]
     },
     "metadata": {},
     "output_type": "display_data"
    },
    {
     "name": "stdout",
     "output_type": "stream",
     "text": [
      "<matplotlib.axes._subplots.AxesSubplot object at 0x7fac60ec8890>"
     ]
    }
   ],
   "source": [
    "from pyspark.sql.functions import year\n",
    "from pyspark.sql.functions import to_date\n",
    "\n",
    "questions.withColumn('creationYear', year(questions.creationDate)).groupBy('creationYear').agg(count('*').alias('count')).orderBy('creationYear').toPandas().plot(\n",
    "    title='Number of posts (questions) per year',\n",
    "    x='creationYear',\n",
    "    xlabel='year',\n",
    "    y='count',\n",
    "    ylabel='number of posts',\n",
    "    kind='line',\n",
    "    legend=False\n",
    ")"
   ]
  },
  {
   "cell_type": "code",
   "execution_count": null,
   "id": "5b6e76e4-d237-43f8-afbe-60403438de21",
   "metadata": {
    "execution": {
     "iopub.execute_input": "2022-05-30T20:50:12.774279Z",
     "iopub.status.busy": "2022-05-30T20:50:12.773877Z",
     "iopub.status.idle": "2022-05-30T20:50:13.649347Z"
    },
    "tags": []
   },
   "outputs": [
    {
     "data": {
      "application/vnd.jupyter.widget-view+json": {
       "model_id": "",
       "version_major": 2,
       "version_minor": 0
      },
      "text/plain": [
       "FloatProgress(value=0.0, bar_style='info', description='Progress:', layout=Layout(height='25px', width='50%'),…"
      ]
     },
     "metadata": {},
     "output_type": "display_data"
    },
    {
     "data": {
      "image/png": "[encoded data removed]",
      "text/plain": [
       "<IPython.core.display.Image object>"
      ]
     },
     "metadata": {},
     "output_type": "display_data"
    }
   ],
   "source": [
    "%matplot plot"
   ]
  },
  {
   "cell_type": "code",
   "execution_count": 124,
   "id": "82b9d293-ba9f-40b1-9d9e-58d4e702563a",
   "metadata": {
    "execution": {
     "iopub.execute_input": "2022-05-30T22:56:12.847957Z",
     "iopub.status.busy": "2022-05-30T22:56:12.847706Z",
     "iopub.status.idle": "2022-05-30T22:59:02.612596Z",
     "shell.execute_reply": "2022-05-30T22:59:02.611653Z",
     "shell.execute_reply.started": "2022-05-30T22:56:12.847927Z"
    },
    "tags": []
   },
   "outputs": [
    {
     "data": {
      "application/vnd.jupyter.widget-view+json": {
       "model_id": "e6b9f03751334cc4965b8f05ccc1ef4a",
       "version_major": 2,
       "version_minor": 0
      },
      "text/plain": [
       "VBox()"
      ]
     },
     "metadata": {},
     "output_type": "display_data"
    },
    {
     "data": {
      "application/vnd.jupyter.widget-view+json": {
       "model_id": "",
       "version_major": 2,
       "version_minor": 0
      },
      "text/plain": [
       "FloatProgress(value=0.0, bar_style='info', description='Progress:', layout=Layout(height='25px', width='50%'),…"
      ]
     },
     "metadata": {},
     "output_type": "display_data"
    }
   ],
   "source": [
    "(\n",
    "spark\n",
    ".read\n",
    ".format('xml')\n",
    ".option(\"rowTag\", \"row\")\n",
    ".load(usersXmlPath)\n",
    ".select(\n",
    "    col('_Id').alias('id'),\n",
    "    col('_Reputation').alias('reputation'),\n",
    "    col('_DisplayName').alias('displayName'),\n",
    "    col('_AccountId').alias('accountId'),\n",
    "    (col('_CreationDate').cast('timestamp')).alias('creationDate')\n",
    ")\n",
    ".write\n",
    ".mode('overwrite')\n",
    ".format('parquet')\n",
    ".option('path', usersParquetPath)\n",
    ".save()\n",
    ")\n",
    "\n",
    "users = spark.read.parquet(usersParquetPath).cache()"
   ]
  },
  {
   "cell_type": "code",
   "execution_count": 129,
   "id": "57600a5e-e2ee-4f54-ac68-73884d4eb052",
   "metadata": {
    "execution": {
     "iopub.execute_input": "2022-05-30T23:00:35.334828Z",
     "iopub.status.busy": "2022-05-30T23:00:35.334555Z",
     "iopub.status.idle": "2022-05-30T23:00:36.055265Z",
     "shell.execute_reply": "2022-05-30T23:00:36.054433Z",
     "shell.execute_reply.started": "2022-05-30T23:00:35.334799Z"
    },
    "tags": []
   },
   "outputs": [
    {
     "data": {
      "application/vnd.jupyter.widget-view+json": {
       "model_id": "7ea6b9d73d864d5691f5d62b380bc0c4",
       "version_major": 2,
       "version_minor": 0
      },
      "text/plain": [
       "VBox()"
      ]
     },
     "metadata": {},
     "output_type": "display_data"
    },
    {
     "data": {
      "application/vnd.jupyter.widget-view+json": {
       "model_id": "",
       "version_major": 2,
       "version_minor": 0
      },
      "text/plain": [
       "FloatProgress(value=0.0, bar_style='info', description='Progress:', layout=Layout(height='25px', width='50%'),…"
      ]
     },
     "metadata": {},
     "output_type": "display_data"
    },
    {
     "name": "stdout",
     "output_type": "stream",
     "text": [
      "+---+----------+-----------+---------+--------------------+\n",
      "| id|reputation|displayName|accountId|        creationDate|\n",
      "+---+----------+-----------+---------+--------------------+\n",
      "| -1|         1|  Community|       -1|2009-07-12 22:51:...|\n",
      "+---+----------+-----------+---------+--------------------+"
     ]
    }
   ],
   "source": [
    "users.filter(col('accountId')<0).show(5)"
   ]
  },
  {
   "cell_type": "code",
   "execution_count": 126,
   "id": "b50a257c-7cea-4223-9697-111149cab915",
   "metadata": {
    "execution": {
     "iopub.execute_input": "2022-05-30T22:59:09.125401Z",
     "iopub.status.busy": "2022-05-30T22:59:09.054157Z",
     "iopub.status.idle": "2022-05-30T22:59:10.133441Z",
     "shell.execute_reply": "2022-05-30T22:59:10.132557Z",
     "shell.execute_reply.started": "2022-05-30T22:59:09.125328Z"
    },
    "tags": []
   },
   "outputs": [
    {
     "data": {
      "application/vnd.jupyter.widget-view+json": {
       "model_id": "385824fd522643f89027fb05cc61ef7a",
       "version_major": 2,
       "version_minor": 0
      },
      "text/plain": [
       "VBox()"
      ]
     },
     "metadata": {},
     "output_type": "display_data"
    },
    {
     "data": {
      "application/vnd.jupyter.widget-view+json": {
       "model_id": "",
       "version_major": 2,
       "version_minor": 0
      },
      "text/plain": [
       "FloatProgress(value=0.0, bar_style='info', description='Progress:', layout=Layout(height='25px', width='50%'),…"
      ]
     },
     "metadata": {},
     "output_type": "display_data"
    },
    {
     "name": "stdout",
     "output_type": "stream",
     "text": [
      "+---+----------+------------+---------+--------------------+\n",
      "| id|reputation| displayName|accountId|        creationDate|\n",
      "+---+----------+------------+---------+--------------------+\n",
      "| -1|         1|   Community|       -1|2009-07-12 22:51:...|\n",
      "|  1|     23242| Jeff Atwood|        1|2009-07-12 22:51:...|\n",
      "|  2|       363|Geoff Dalgas|        2|2009-07-12 22:51:...|\n",
      "|  3|       111|Jarrod Dixon|        3|2009-07-12 22:51:...|\n",
      "|  4|      1804|Joel Spolsky|        4|2009-07-12 22:51:...|\n",
      "+---+----------+------------+---------+--------------------+\n",
      "only showing top 5 rows\n",
      "\n",
      "[Row(id=-1, reputation=1, displayName='Community', accountId=-1, creationDate=datetime.datetime(2009, 7, 12, 22, 51, 42, 563000)), Row(id=1, reputation=23242, displayName='Jeff Atwood', accountId=1, creationDate=datetime.datetime(2009, 7, 12, 22, 51, 42, 563000)), Row(id=2, reputation=363, displayName='Geoff Dalgas', accountId=2, creationDate=datetime.datetime(2009, 7, 12, 22, 51, 42, 563000)), Row(id=3, reputation=111, displayName='Jarrod Dixon', accountId=3, creationDate=datetime.datetime(2009, 7, 12, 22, 51, 42, 563000)), Row(id=4, reputation=1804, displayName='Joel Spolsky', accountId=4, creationDate=datetime.datetime(2009, 7, 12, 22, 51, 42, 563000))]"
     ]
    }
   ],
   "source": [
    "users.show(5)\n",
    "users.take(5)"
   ]
  },
  {
   "cell_type": "code",
   "execution_count": 127,
   "id": "78d8299e-712b-4ac4-94fd-30bd9c938ff6",
   "metadata": {
    "execution": {
     "iopub.execute_input": "2022-05-30T22:59:10.134907Z",
     "iopub.status.busy": "2022-05-30T22:59:10.134636Z",
     "iopub.status.idle": "2022-05-30T22:59:11.538168Z",
     "shell.execute_reply": "2022-05-30T22:59:11.446518Z",
     "shell.execute_reply.started": "2022-05-30T22:59:10.134867Z"
    },
    "tags": []
   },
   "outputs": [
    {
     "data": {
      "application/vnd.jupyter.widget-view+json": {
       "model_id": "a3c3536188134c60a510b5535514c1d5",
       "version_major": 2,
       "version_minor": 0
      },
      "text/plain": [
       "VBox()"
      ]
     },
     "metadata": {},
     "output_type": "display_data"
    },
    {
     "data": {
      "application/vnd.jupyter.widget-view+json": {
       "model_id": "",
       "version_major": 2,
       "version_minor": 0
      },
      "text/plain": [
       "FloatProgress(value=0.0, bar_style='info', description='Progress:', layout=Layout(height='25px', width='50%'),…"
      ]
     },
     "metadata": {},
     "output_type": "display_data"
    },
    {
     "name": "stdout",
     "output_type": "stream",
     "text": [
      "+-------+----------+----------------+--------------------+-----------+--------+-----+---------+--------------------+--------------------+-----------+--------------------+\n",
      "|     id|postTypeId|acceptedAnswerId|        creationDate|ownerUserId|parentId|score|viewCount|                body|                tags|answerCount|               title|\n",
      "+-------+----------+----------------+--------------------+-----------+--------+-----+---------+--------------------+--------------------+-----------+--------------------+\n",
      "|1665062|         2|            null|2021-07-27 22:41:...|     432690| 1664879|    0|     null|<p><code>set -- *...|                null|       null|                null|\n",
      "|1665063|         1|            null|2021-07-27 23:10:...|    1476016|    null|    0|       19|<p>I'm working in...|<microsoft-excel>...|          0|Mail to hyperlink...|\n",
      "|1665064|         1|         1665155|2021-07-27 23:24:...|      62286|    null|    0|      110|<p>I've written a...|<command-line><ff...|          1|Knowing when not ...|\n",
      "|1665065|         2|            null|2021-07-27 23:28:...|     401553| 1665049|    0|     null|<ul>\n",
      "<li>In Thund...|                null|       null|                null|\n",
      "|1665066|         1|            null|2021-07-27 23:35:...|    1476043|    null|    1|       55|<p>My PC 'died' a...|<motherboard><pow...|          0|PC not posting af...|\n",
      "+-------+----------+----------------+--------------------+-----------+--------+-----+---------+--------------------+--------------------+-----------+--------------------+\n",
      "only showing top 5 rows\n",
      "\n",
      "+---+----------+------------+---------+--------------------+\n",
      "| id|reputation| displayName|accountId|        creationDate|\n",
      "+---+----------+------------+---------+--------------------+\n",
      "| -1|         1|   Community|       -1|2009-07-12 22:51:...|\n",
      "|  1|     23242| Jeff Atwood|        1|2009-07-12 22:51:...|\n",
      "|  2|       363|Geoff Dalgas|        2|2009-07-12 22:51:...|\n",
      "|  3|       111|Jarrod Dixon|        3|2009-07-12 22:51:...|\n",
      "|  4|      1804|Joel Spolsky|        4|2009-07-12 22:51:...|\n",
      "+---+----------+------------+---------+--------------------+\n",
      "only showing top 5 rows"
     ]
    }
   ],
   "source": [
    "posts.show(5)\n",
    "users.show(5)"
   ]
  },
  {
   "cell_type": "code",
   "execution_count": null,
   "id": "e0e23329-9342-47f6-b189-4e51109f9793",
   "metadata": {
    "execution": {
     "iopub.execute_input": "2022-05-30T20:53:19.752526Z",
     "iopub.status.busy": "2022-05-30T20:53:19.748823Z",
     "iopub.status.idle": "2022-05-30T20:56:57.231480Z"
    },
    "tags": []
   },
   "outputs": [
    {
     "data": {
      "application/vnd.jupyter.widget-view+json": {
       "model_id": "1150515ba9f5419881bfe45597ad1d19",
       "version_major": 2,
       "version_minor": 0
      },
      "text/plain": [
       "VBox()"
      ]
     },
     "metadata": {},
     "output_type": "display_data"
    },
    {
     "data": {
      "application/vnd.jupyter.widget-view+json": {
       "model_id": "",
       "version_major": 2,
       "version_minor": 0
      },
      "text/plain": [
       "FloatProgress(value=0.0, bar_style='info', description='Progress:', layout=Layout(height='25px', width='50%'),…"
      ]
     },
     "metadata": {},
     "output_type": "display_data"
    },
    {
     "name": "stdout",
     "output_type": "stream",
     "text": [
      "+-------+------------------+-----------------+-------------------+--------------------+-----------------+\n",
      "|summary|                id|           postId|              score|     userDisplayName|           userId|\n",
      "+-------+------------------+-----------------+-------------------+--------------------+-----------------+\n",
      "|  count|           1715009|          1715009|            1715009|               41838|          1672905|\n",
      "|   mean|1288584.4733211312|861431.0809989918|0.37343535806517636|  2042484.2222222222|283587.2349553621|\n",
      "| stddev| 760249.9015245036|475601.8808441576| 1.9892390586296196|  3527789.0424768096|315561.8448748035|\n",
      "|    min|                32|                1|                  0|                 ...|               -1|\n",
      "|    max|           2600318|          1691310|                365|              이광수|          1646746|\n",
      "+-------+------------------+-----------------+-------------------+--------------------+-----------------+"
     ]
    }
   ],
   "source": [
    "(\n",
    "spark\n",
    ".read\n",
    ".format('xml')\n",
    ".option(\"rowTag\", \"row\")\n",
    ".load(commentsXmlPath)\n",
    ".select(\n",
    "    col('_Id').alias('id'),\n",
    "    col('_PostId').alias('postId'),\n",
    "    col('_Score').alias('score'),\n",
    "    col('_UserDisplayName').alias('userDisplayName'),\n",
    "    col('_UserId').alias('userId'),\n",
    "    (col('_CreationDate').cast('timestamp')).alias('creationDate')\n",
    ")\n",
    ".write\n",
    ".mode('overwrite')\n",
    ".format('parquet')\n",
    ".option('path', commentsParquetPath)\n",
    ".save()\n",
    ")\n",
    "\n",
    "comments = spark.read.parquet(commentsParquetPath).cache()\n",
    "\n",
    "comments.describe().show()"
   ]
  },
  {
   "cell_type": "code",
   "execution_count": null,
   "id": "961e6b77-91f6-4386-9c3a-359906b8c2a1",
   "metadata": {
    "execution": {
     "iopub.execute_input": "2022-05-30T20:56:57.243916Z",
     "iopub.status.busy": "2022-05-30T20:56:57.243517Z",
     "iopub.status.idle": "2022-05-30T20:56:57.689166Z"
    },
    "tags": []
   },
   "outputs": [
    {
     "data": {
      "application/vnd.jupyter.widget-view+json": {
       "model_id": "3f91d3c24f3141aa8117efde56610967",
       "version_major": 2,
       "version_minor": 0
      },
      "text/plain": [
       "VBox()"
      ]
     },
     "metadata": {},
     "output_type": "display_data"
    },
    {
     "data": {
      "application/vnd.jupyter.widget-view+json": {
       "model_id": "",
       "version_major": 2,
       "version_minor": 0
      },
      "text/plain": [
       "FloatProgress(value=0.0, bar_style='info', description='Progress:', layout=Layout(height='25px', width='50%'),…"
      ]
     },
     "metadata": {},
     "output_type": "display_data"
    }
   ],
   "source": [
    "# PART B"
   ]
  },
  {
   "cell_type": "code",
   "execution_count": 130,
   "id": "faca0475-f5f9-4336-89e0-b6af1558bc5d",
   "metadata": {
    "execution": {
     "iopub.execute_input": "2022-05-30T23:02:15.045359Z",
     "iopub.status.busy": "2022-05-30T23:02:15.045101Z",
     "iopub.status.idle": "2022-05-30T23:02:21.528625Z",
     "shell.execute_reply": "2022-05-30T23:02:21.527841Z",
     "shell.execute_reply.started": "2022-05-30T23:02:15.045332Z"
    },
    "tags": []
   },
   "outputs": [
    {
     "data": {
      "application/vnd.jupyter.widget-view+json": {
       "model_id": "d4f87a0c0e2c45ef82307a8e7bac7d6e",
       "version_major": 2,
       "version_minor": 0
      },
      "text/plain": [
       "VBox()"
      ]
     },
     "metadata": {},
     "output_type": "display_data"
    },
    {
     "data": {
      "application/vnd.jupyter.widget-view+json": {
       "model_id": "",
       "version_major": 2,
       "version_minor": 0
      },
      "text/plain": [
       "FloatProgress(value=0.0, bar_style='info', description='Progress:', layout=Layout(height='25px', width='50%'),…"
      ]
     },
     "metadata": {},
     "output_type": "display_data"
    },
    {
     "name": "stdout",
     "output_type": "stream",
     "text": [
      "+------+--------------------+--------------------+---------------+---------+\n",
      "|userId|    postCreationDate|    userCreationDate|userDisplayName|      max|\n",
      "+------+--------------------+--------------------+---------------+---------+\n",
      "|  1686|2021-12-04 17:00:...|2009-07-15 17:38:...|       user1686|390957736|\n",
      "|  2293|2021-12-04 18:49:...|2009-07-16 11:57:...|       leeand00|390898283|\n",
      "|  2003|2021-12-02 09:46:...|2009-07-15 22:20:...|         Sergey|390741966|\n",
      "|  2280|2021-11-29 13:41:...|2009-07-16 10:47:...|       Boldewyn|390452065|\n",
      "|  2077|2021-11-26 21:17:...|2009-07-16 00:09:...|     Sinan Ünür|390258487|\n",
      "|  2291|2021-11-24 10:15:...|2009-07-16 11:30:...|         talonx|390005098|\n",
      "|  3015|2021-11-27 22:53:...|2009-07-20 13:56:...|        Zanchey|389955414|\n",
      "|  2108|2021-11-22 23:35:...|2009-07-16 01:12:...|   Tony_Henrich|389917402|\n",
      "|  3719|2021-11-30 20:08:...|2009-07-25 15:36:...| Peter Hahndorf|389766687|\n",
      "|  2432|2021-11-21 20:43:...|2009-07-16 19:13:...|         pupeno|389755783|\n",
      "+------+--------------------+--------------------+---------------+---------+\n",
      "only showing top 10 rows"
     ]
    }
   ],
   "source": [
    "from pyspark.sql.window import Window\n",
    "\n",
    "windowSpecAgg  = Window.partitionBy(\"postTimeSinceUserJoined\")\n",
    "windowSpec  = Window.partitionBy(\"userId\").orderBy(desc(\"postTimeSinceUserJoined\"))\n",
    "\n",
    "from pyspark.sql.functions import col,avg,sum,min,max,row_number \n",
    "users.alias('users').join(posts.alias('posts'), col('users.id') == col('posts.ownerUserId')) \\\n",
    "    .select(\n",
    "        col('users.displayName').alias('userDisplayName'),\n",
    "        col('users.id').alias('userId'),\n",
    "        col('users.accountId').alias('accountId'),\n",
    "        col('posts.creationDate').alias('postCreationDate'),\n",
    "        col('users.creationDate').alias('userCreationDate')\n",
    "    ) \\\n",
    "  .withColumn('postTimeSinceUserJoined', unix_timestamp('postCreationDate') - unix_timestamp('userCreationDate')) \\\n",
    "  .withColumn(\"row\",row_number().over(windowSpec)) \\\n",
    "  .withColumn(\"max\", max(col(\"postTimeSinceUserJoined\")).over(windowSpecAgg)) \\\n",
    "  .filter(col('userId')>0) \\\n",
    "  .where(col(\"row\")==1).select(\"userId\",\"postCreationDate\",\"userCreationDate\",\"userDisplayName\",\"max\") \\\n",
    "  .orderBy(desc('postTimeSinceUserJoined')).show(10)\n"
   ]
  },
  {
   "cell_type": "code",
   "execution_count": null,
   "id": "6ffe0b32-901b-40e2-8362-ed7dd098afb5",
   "metadata": {
    "execution": {
     "iopub.execute_input": "2022-05-30T20:57:14.636538Z",
     "iopub.status.busy": "2022-05-30T20:57:14.636017Z",
     "iopub.status.idle": "2022-05-30T20:57:15.055175Z"
    },
    "tags": []
   },
   "outputs": [
    {
     "data": {
      "application/vnd.jupyter.widget-view+json": {
       "model_id": "1362329d94c04a55b14a462d122e6df4",
       "version_major": 2,
       "version_minor": 0
      },
      "text/plain": [
       "VBox()"
      ]
     },
     "metadata": {},
     "output_type": "display_data"
    },
    {
     "data": {
      "application/vnd.jupyter.widget-view+json": {
       "model_id": "",
       "version_major": 2,
       "version_minor": 0
      },
      "text/plain": [
       "FloatProgress(value=0.0, bar_style='info', description='Progress:', layout=Layout(height='25px', width='50%'),…"
      ]
     },
     "metadata": {},
     "output_type": "display_data"
    }
   ],
   "source": [
    "# PART C"
   ]
  },
  {
   "cell_type": "code",
   "execution_count": null,
   "id": "54b05f8d-4c59-4575-8059-93eaa7cfb243",
   "metadata": {
    "execution": {
     "iopub.execute_input": "2022-05-30T20:57:15.059601Z",
     "iopub.status.busy": "2022-05-30T20:57:15.057659Z",
     "iopub.status.idle": "2022-05-30T20:57:15.836877Z"
    },
    "tags": []
   },
   "outputs": [
    {
     "data": {
      "application/vnd.jupyter.widget-view+json": {
       "model_id": "042ed6ae7953404fa5a9678feb787c97",
       "version_major": 2,
       "version_minor": 0
      },
      "text/plain": [
       "VBox()"
      ]
     },
     "metadata": {},
     "output_type": "display_data"
    },
    {
     "data": {
      "application/vnd.jupyter.widget-view+json": {
       "model_id": "",
       "version_major": 2,
       "version_minor": 0
      },
      "text/plain": [
       "FloatProgress(value=0.0, bar_style='info', description='Progress:', layout=Layout(height='25px', width='50%'),…"
      ]
     },
     "metadata": {},
     "output_type": "display_data"
    }
   ],
   "source": [
    "higestScoredPosts = questions.orderBy(desc('score')).limit(1000)\n",
    "lowestScoredPosts = questions.orderBy('score').limit(1000)"
   ]
  },
  {
   "cell_type": "code",
   "execution_count": null,
   "id": "9b79b261-8f3a-4bf5-9bff-5cb48e5b8819",
   "metadata": {
    "execution": {
     "iopub.execute_input": "2022-05-30T20:57:15.839505Z",
     "iopub.status.busy": "2022-05-30T20:57:15.838437Z",
     "iopub.status.idle": "2022-05-30T20:57:19.635899Z"
    },
    "tags": []
   },
   "outputs": [
    {
     "data": {
      "application/vnd.jupyter.widget-view+json": {
       "model_id": "80752b8dc6d341c1999f4c38bb4a661a",
       "version_major": 2,
       "version_minor": 0
      },
      "text/plain": [
       "VBox()"
      ]
     },
     "metadata": {},
     "output_type": "display_data"
    },
    {
     "data": {
      "application/vnd.jupyter.widget-view+json": {
       "model_id": "",
       "version_major": 2,
       "version_minor": 0
      },
      "text/plain": [
       "FloatProgress(value=0.0, bar_style='info', description='Progress:', layout=Layout(height='25px', width='50%'),…"
      ]
     },
     "metadata": {},
     "output_type": "display_data"
    },
    {
     "name": "stdout",
     "output_type": "stream",
     "text": [
      "+------+----------+----------------+--------------------+-----------+--------+-----+---------+--------------------+--------------------+-----------+\n",
      "|    id|postTypeId|acceptedAnswerId|        creationDate|ownerUserId|parentId|score|viewCount|                body|                tags|answerCount|\n",
      "+------+----------+----------------+--------------------+-----------+--------+-----+---------+--------------------+--------------------+-----------+\n",
      "|149329|         1|            null|2008-09-17 15:39:...|       null|    null| 2372|  2956162|<p>How can I make...|        <http><curl>|          7|\n",
      "|792607|         1|          792628|2014-08-05 09:36:...|     349115|    null| 2121|   245543|<p>I've inherited...|<windows-7><devic...|          3|\n",
      "|209437|         1|          209608|2010-11-10 18:40:...|      37690|    null| 1719|  1144579|<p>I just started...|              <tmux>|         12|\n",
      "|147027|         1|            null|2009-04-09 13:17:...|       null|    null| 1583|  1330503|<p>How can I sort...|<linux><unix><she...|         10|\n",
      "|545329|         1|            null|2013-02-01 17:14:...|     181938|    null| 1570|   161759|<p>My kids (4 and...|<linux><audio><sh...|          6|\n",
      "+------+----------+----------------+--------------------+-----------+--------+-----+---------+--------------------+--------------------+-----------+\n",
      "only showing top 5 rows\n",
      "\n",
      "+-------+----------+----------------+--------------------+-----------+--------+-----+---------+--------------------+--------------------+-----------+\n",
      "|     id|postTypeId|acceptedAnswerId|        creationDate|ownerUserId|parentId|score|viewCount|                body|                tags|answerCount|\n",
      "+-------+----------+----------------+--------------------+-----------+--------+-----+---------+--------------------+--------------------+-----------+\n",
      "| 997345|         1|            null|2015-11-07 12:47:...|     518995|    null|  -40|     1384|<p>At work I am g...|<networking><wire...|          4|\n",
      "| 670560|         1|          670613|2013-11-06 20:31:...|     222470|    null|  -18|     1634|<p>Now, I know th...|<windows-xp><inte...|          2|\n",
      "| 329099|         1|          329100|2011-08-28 20:20:...|      52304|    null|  -17|    28233|<blockquote>\n",
      "  <p...|<windows-xp><scri...|          2|\n",
      "|1021499|         1|         1021548|2016-01-04 09:42:...|     528239|    null|  -15|     2016|<p>I'm very confu...|<cpu><process><co...|          2|\n",
      "|1163724|         1|            null|2017-01-05 12:49:...|     682264|    null|  -15|      385|<p>I downloaded a...|           <windows>|          1|\n",
      "+-------+----------+----------------+--------------------+-----------+--------+-----+---------+--------------------+--------------------+-----------+\n",
      "only showing top 5 rows"
     ]
    }
   ],
   "source": [
    "higestScoredPosts.show(5)\n",
    "lowestScoredPosts.show(5)"
   ]
  },
  {
   "cell_type": "code",
   "execution_count": null,
   "id": "28b471ca-f270-4cc4-bbbe-52bcf178e307",
   "metadata": {
    "execution": {
     "iopub.execute_input": "2022-05-30T20:57:19.637966Z",
     "iopub.status.busy": "2022-05-30T20:57:19.637349Z",
     "iopub.status.idle": "2022-05-30T20:57:20.448121Z"
    },
    "tags": []
   },
   "outputs": [
    {
     "data": {
      "application/vnd.jupyter.widget-view+json": {
       "model_id": "ce5f1e2be9f84983ae83489eea88833c",
       "version_major": 2,
       "version_minor": 0
      },
      "text/plain": [
       "VBox()"
      ]
     },
     "metadata": {},
     "output_type": "display_data"
    },
    {
     "data": {
      "application/vnd.jupyter.widget-view+json": {
       "model_id": "",
       "version_major": 2,
       "version_minor": 0
      },
      "text/plain": [
       "FloatProgress(value=0.0, bar_style='info', description='Progress:', layout=Layout(height='25px', width='50%'),…"
      ]
     },
     "metadata": {},
     "output_type": "display_data"
    }
   ],
   "source": [
    "from pyspark.sql.functions import split\n",
    "\n",
    "higestScoredPostsWithTags = (\n",
    "    higestScoredPosts\n",
    "    .withColumn('tags', split('tags', '><'))\n",
    "    .selectExpr(\n",
    "        '*',\n",
    "        \"TRANSFORM(tags, value -> regexp_replace(value, '(>|<)', '')) AS tags_arr\"\n",
    "    )\n",
    ")\n",
    "\n",
    "lowestScoredPostsWithTags = (\n",
    "    lowestScoredPosts\n",
    "    .withColumn('tags', split('tags', '><'))\n",
    "    .selectExpr(\n",
    "        '*',\n",
    "        \"TRANSFORM(tags, value -> regexp_replace(value, '(>|<)', '')) AS tags_arr\"\n",
    "    )\n",
    ")"
   ]
  },
  {
   "cell_type": "code",
   "execution_count": null,
   "id": "07a46414-60a5-4e0c-9952-a83a4453ff37",
   "metadata": {
    "execution": {
     "iopub.execute_input": "2022-05-30T20:57:20.450071Z",
     "iopub.status.busy": "2022-05-30T20:57:20.449610Z",
     "iopub.status.idle": "2022-05-30T20:57:24.325751Z"
    },
    "tags": []
   },
   "outputs": [
    {
     "data": {
      "application/vnd.jupyter.widget-view+json": {
       "model_id": "720d4c11cc69457d8e62024616c7228a",
       "version_major": 2,
       "version_minor": 0
      },
      "text/plain": [
       "VBox()"
      ]
     },
     "metadata": {},
     "output_type": "display_data"
    },
    {
     "data": {
      "application/vnd.jupyter.widget-view+json": {
       "model_id": "",
       "version_major": 2,
       "version_minor": 0
      },
      "text/plain": [
       "FloatProgress(value=0.0, bar_style='info', description='Progress:', layout=Layout(height='25px', width='50%'),…"
      ]
     },
     "metadata": {},
     "output_type": "display_data"
    },
    {
     "name": "stdout",
     "output_type": "stream",
     "text": [
      "+------+----------+----------------+--------------------+-----------+--------+-----+---------+--------------------+--------------------+-----------+--------------------+--------------+\n",
      "|    id|postTypeId|acceptedAnswerId|        creationDate|ownerUserId|parentId|score|viewCount|                body|                tags|answerCount|            tags_arr|           tag|\n",
      "+------+----------+----------------+--------------------+-----------+--------+-----+---------+--------------------+--------------------+-----------+--------------------+--------------+\n",
      "|149329|         1|            null|2008-09-17 15:39:...|       null|    null| 2372|  2956162|<p>How can I make...|      [<http, curl>]|          7|        [http, curl]|          http|\n",
      "|149329|         1|            null|2008-09-17 15:39:...|       null|    null| 2372|  2956162|<p>How can I make...|      [<http, curl>]|          7|        [http, curl]|          curl|\n",
      "|792607|         1|          792628|2014-08-05 09:36:...|     349115|    null| 2121|   245543|<p>I've inherited...|[<windows-7, devi...|          3|[windows-7, devic...|     windows-7|\n",
      "|792607|         1|          792628|2014-08-05 09:36:...|     349115|    null| 2121|   245543|<p>I've inherited...|[<windows-7, devi...|          3|[windows-7, devic...|device-manager|\n",
      "|209437|         1|          209608|2010-11-10 18:40:...|      37690|    null| 1719|  1144579|<p>I just started...|            [<tmux>]|         12|              [tmux]|          tmux|\n",
      "+------+----------+----------------+--------------------+-----------+--------+-----+---------+--------------------+--------------------+-----------+--------------------+--------------+\n",
      "only showing top 5 rows\n",
      "\n",
      "+------+----------+----------------+--------------------+-----------+--------+-----+---------+--------------------+--------------------+-----------+--------------------+-------------------+\n",
      "|    id|postTypeId|acceptedAnswerId|        creationDate|ownerUserId|parentId|score|viewCount|                body|                tags|answerCount|            tags_arr|                tag|\n",
      "+------+----------+----------------+--------------------+-----------+--------+-----+---------+--------------------+--------------------+-----------+--------------------+-------------------+\n",
      "|997345|         1|            null|2015-11-07 12:47:...|     518995|    null|  -40|     1384|<p>At work I am g...|[<networking, wir...|          4|[networking, wire...|         networking|\n",
      "|997345|         1|            null|2015-11-07 12:47:...|     518995|    null|  -40|     1384|<p>At work I am g...|[<networking, wir...|          4|[networking, wire...|wireless-networking|\n",
      "|997345|         1|            null|2015-11-07 12:47:...|     518995|    null|  -40|     1384|<p>At work I am g...|[<networking, wir...|          4|[networking, wire...|             router|\n",
      "|997345|         1|            null|2015-11-07 12:47:...|     518995|    null|  -40|     1384|<p>At work I am g...|[<networking, wir...|          4|[networking, wire...|    wireless-router|\n",
      "|997345|         1|            null|2015-11-07 12:47:...|     518995|    null|  -40|     1384|<p>At work I am g...|[<networking, wir...|          4|[networking, wire...|                 ip|\n",
      "+------+----------+----------------+--------------------+-----------+--------+-----+---------+--------------------+--------------------+-----------+--------------------+-------------------+\n",
      "only showing top 5 rows"
     ]
    }
   ],
   "source": [
    "from pyspark.sql.functions import explode\n",
    "\n",
    "higestScoredPostsWithTags.withColumn('tag', explode('tags_arr')).show(5)\n",
    "lowestScoredPostsWithTags.withColumn('tag', explode('tags_arr')).show(5)"
   ]
  },
  {
   "cell_type": "code",
   "execution_count": null,
   "id": "9bc7d644-1754-43fb-961e-5669b6267269",
   "metadata": {
    "execution": {
     "iopub.execute_input": "2022-05-30T20:57:24.327013Z",
     "iopub.status.busy": "2022-05-30T20:57:24.326807Z",
     "iopub.status.idle": "2022-05-30T20:57:27.452630Z"
    },
    "tags": []
   },
   "outputs": [
    {
     "data": {
      "application/vnd.jupyter.widget-view+json": {
       "model_id": "30274c6470c64a28877725d91da863be",
       "version_major": 2,
       "version_minor": 0
      },
      "text/plain": [
       "VBox()"
      ]
     },
     "metadata": {},
     "output_type": "display_data"
    },
    {
     "data": {
      "application/vnd.jupyter.widget-view+json": {
       "model_id": "",
       "version_major": 2,
       "version_minor": 0
      },
      "text/plain": [
       "FloatProgress(value=0.0, bar_style='info', description='Progress:', layout=Layout(height='25px', width='50%'),…"
      ]
     },
     "metadata": {},
     "output_type": "display_data"
    },
    {
     "name": "stdout",
     "output_type": "stream",
     "text": [
      "+-------------+------------+\n",
      "|          tag|numberOfTags|\n",
      "+-------------+------------+\n",
      "|      windows|         176|\n",
      "|        linux|         152|\n",
      "| command-line|          86|\n",
      "|    windows-7|          79|\n",
      "|        macos|          65|\n",
      "|         bash|          62|\n",
      "|   windows-10|          56|\n",
      "|         unix|          45|\n",
      "|google-chrome|          44|\n",
      "|          ssh|          40|\n",
      "+-------------+------------+\n",
      "only showing top 10 rows\n",
      "\n",
      "+---------------+------------+\n",
      "|            tag|numberOfTags|\n",
      "+---------------+------------+\n",
      "|        windows|         123|\n",
      "|      windows-7|         114|\n",
      "|     networking|          68|\n",
      "|          linux|          68|\n",
      "|microsoft-excel|          67|\n",
      "|     windows-10|          52|\n",
      "|         memory|          51|\n",
      "|            cpu|          50|\n",
      "|     hard-drive|          44|\n",
      "|      windows-8|          39|\n",
      "+---------------+------------+\n",
      "only showing top 10 rows"
     ]
    }
   ],
   "source": [
    "higestScoredPostsWithTags.withColumn('tag', explode('tags_arr')) \\\n",
    ".groupBy('tag') \\\n",
    ".agg(count('*').alias('numberOfTags')) \\\n",
    ".orderBy(desc('numberOfTags')) \\\n",
    ".show(10)\n",
    "\n",
    "lowestScoredPostsWithTags.withColumn('tag', explode('tags_arr')) \\\n",
    ".groupBy('tag') \\\n",
    ".agg(count('*').alias('numberOfTags')) \\\n",
    ".orderBy(desc('numberOfTags')) \\\n",
    ".show(10)"
   ]
  },
  {
   "cell_type": "code",
   "execution_count": null,
   "id": "2aad414c-f4e8-40b6-bb3d-19833cb592e4",
   "metadata": {
    "execution": {
     "iopub.execute_input": "2022-05-30T20:57:27.454137Z",
     "iopub.status.busy": "2022-05-30T20:57:27.453939Z",
     "iopub.status.idle": "2022-05-30T20:57:30.130519Z"
    },
    "tags": []
   },
   "outputs": [
    {
     "data": {
      "application/vnd.jupyter.widget-view+json": {
       "model_id": "e28ed6a8a2274bc6834c041837918286",
       "version_major": 2,
       "version_minor": 0
      },
      "text/plain": [
       "VBox()"
      ]
     },
     "metadata": {},
     "output_type": "display_data"
    },
    {
     "data": {
      "application/vnd.jupyter.widget-view+json": {
       "model_id": "",
       "version_major": 2,
       "version_minor": 0
      },
      "text/plain": [
       "FloatProgress(value=0.0, bar_style='info', description='Progress:', layout=Layout(height='25px', width='50%'),…"
      ]
     },
     "metadata": {},
     "output_type": "display_data"
    },
    {
     "name": "stdout",
     "output_type": "stream",
     "text": [
      "+------+----------+----------------+--------------------+-----------+--------+-----+---------+--------------------+--------------------+-----------+----------+\n",
      "|    id|postTypeId|acceptedAnswerId|        creationDate|ownerUserId|parentId|score|viewCount|                body|                tags|answerCount|bodyLength|\n",
      "+------+----------+----------------+--------------------+-----------+--------+-----+---------+--------------------+--------------------+-----------+----------+\n",
      "|149329|         1|            null|2008-09-17 15:39:...|       null|    null| 2372|  2956162|<p>How can I make...|        <http><curl>|          7|       177|\n",
      "|792607|         1|          792628|2014-08-05 09:36:...|     349115|    null| 2121|   245543|<p>I've inherited...|<windows-7><devic...|          3|       396|\n",
      "|209437|         1|          209608|2010-11-10 18:40:...|      37690|    null| 1719|  1144579|<p>I just started...|              <tmux>|         12|       388|\n",
      "|147027|         1|            null|2009-04-09 13:17:...|       null|    null| 1583|  1330503|<p>How can I sort...|<linux><unix><she...|         10|        75|\n",
      "|545329|         1|            null|2013-02-01 17:14:...|     181938|    null| 1570|   161759|<p>My kids (4 and...|<linux><audio><sh...|          6|       741|\n",
      "+------+----------+----------------+--------------------+-----------+--------+-----+---------+--------------------+--------------------+-----------+----------+\n",
      "only showing top 5 rows\n",
      "\n",
      "+-------+----------+----------------+--------------------+-----------+--------+-----+---------+--------------------+--------------------+-----------+----------+\n",
      "|     id|postTypeId|acceptedAnswerId|        creationDate|ownerUserId|parentId|score|viewCount|                body|                tags|answerCount|bodyLength|\n",
      "+-------+----------+----------------+--------------------+-----------+--------+-----+---------+--------------------+--------------------+-----------+----------+\n",
      "| 997345|         1|            null|2015-11-07 12:47:...|     518995|    null|  -40|     1384|<p>At work I am g...|<networking><wire...|          4|      1353|\n",
      "| 670560|         1|          670613|2013-11-06 20:31:...|     222470|    null|  -18|     1634|<p>Now, I know th...|<windows-xp><inte...|          2|      1751|\n",
      "| 329099|         1|          329100|2011-08-28 20:20:...|      52304|    null|  -17|    28233|<blockquote>\n",
      "  <p...|<windows-xp><scri...|          2|       860|\n",
      "|1163724|         1|            null|2017-01-05 12:49:...|     682264|    null|  -15|      385|<p>I downloaded a...|           <windows>|          1|       409|\n",
      "|1021499|         1|         1021548|2016-01-04 09:42:...|     528239|    null|  -15|     2016|<p>I'm very confu...|<cpu><process><co...|          2|       552|\n",
      "+-------+----------+----------------+--------------------+-----------+--------+-----+---------+--------------------+--------------------+-----------+----------+\n",
      "only showing top 5 rows"
     ]
    }
   ],
   "source": [
    "higestScoredPosts.withColumn('bodyLength', length('body')).show(5)\n",
    "lowestScoredPosts.withColumn('bodyLength', length('body')).show(5)"
   ]
  },
  {
   "cell_type": "code",
   "execution_count": null,
   "id": "80d6ff03-3c11-4b50-96ee-18ead8235e68",
   "metadata": {
    "execution": {
     "iopub.execute_input": "2022-05-30T20:57:30.132728Z",
     "iopub.status.busy": "2022-05-30T20:57:30.132509Z",
     "iopub.status.idle": "2022-05-30T20:57:32.547647Z"
    },
    "tags": []
   },
   "outputs": [
    {
     "data": {
      "application/vnd.jupyter.widget-view+json": {
       "model_id": "a0080ea1c8df47c8b2ede2f2b4ecd6b9",
       "version_major": 2,
       "version_minor": 0
      },
      "text/plain": [
       "VBox()"
      ]
     },
     "metadata": {},
     "output_type": "display_data"
    },
    {
     "data": {
      "application/vnd.jupyter.widget-view+json": {
       "model_id": "",
       "version_major": 2,
       "version_minor": 0
      },
      "text/plain": [
       "FloatProgress(value=0.0, bar_style='info', description='Progress:', layout=Layout(height='25px', width='50%'),…"
      ]
     },
     "metadata": {},
     "output_type": "display_data"
    },
    {
     "name": "stdout",
     "output_type": "stream",
     "text": [
      "+---------------+\n",
      "|avg(bodyLength)|\n",
      "+---------------+\n",
      "|        600.631|\n",
      "+---------------+\n",
      "\n",
      "+---------------+\n",
      "|avg(bodyLength)|\n",
      "+---------------+\n",
      "|        570.128|\n",
      "+---------------+"
     ]
    }
   ],
   "source": [
    "higestScoredPosts.withColumn('bodyLength', length('body')).agg(avg(col(\"bodyLength\"))).show()\n",
    "lowestScoredPosts.withColumn('bodyLength', length('body')).agg(avg(col(\"bodyLength\"))).show()"
   ]
  },
  {
   "cell_type": "code",
   "execution_count": null,
   "id": "977bb76e-f5aa-4c03-a1aa-09c8bfce42d7",
   "metadata": {
    "execution": {
     "iopub.execute_input": "2022-05-30T20:57:32.548992Z",
     "iopub.status.busy": "2022-05-30T20:57:32.548732Z",
     "iopub.status.idle": "2022-05-30T20:57:34.453106Z"
    },
    "tags": []
   },
   "outputs": [
    {
     "data": {
      "application/vnd.jupyter.widget-view+json": {
       "model_id": "c6fd6a550cc040d69dd71ac23fcc0e76",
       "version_major": 2,
       "version_minor": 0
      },
      "text/plain": [
       "VBox()"
      ]
     },
     "metadata": {},
     "output_type": "display_data"
    },
    {
     "data": {
      "application/vnd.jupyter.widget-view+json": {
       "model_id": "",
       "version_major": 2,
       "version_minor": 0
      },
      "text/plain": [
       "FloatProgress(value=0.0, bar_style='info', description='Progress:', layout=Layout(height='25px', width='50%'),…"
      ]
     },
     "metadata": {},
     "output_type": "display_data"
    },
    {
     "name": "stdout",
     "output_type": "stream",
     "text": [
      "+----------------+\n",
      "|avg(answerCount)|\n",
      "+----------------+\n",
      "|           8.243|\n",
      "+----------------+\n",
      "\n",
      "+----------------+\n",
      "|avg(answerCount)|\n",
      "+----------------+\n",
      "|            1.45|\n",
      "+----------------+"
     ]
    }
   ],
   "source": [
    "higestScoredPosts.agg(avg(col(\"answerCount\"))).show()\n",
    "lowestScoredPosts.agg(avg(col(\"answerCount\"))).show()"
   ]
  },
  {
   "cell_type": "code",
   "execution_count": null,
   "id": "55a9fd44-b233-4e77-b2af-52054c09d65c",
   "metadata": {
    "execution": {
     "iopub.execute_input": "2022-05-30T20:57:34.526350Z",
     "iopub.status.busy": "2022-05-30T20:57:34.454485Z",
     "iopub.status.idle": "2022-05-30T20:57:35.645644Z"
    },
    "tags": []
   },
   "outputs": [
    {
     "data": {
      "application/vnd.jupyter.widget-view+json": {
       "model_id": "e097907cb43c41a2a9698e6516d9895e",
       "version_major": 2,
       "version_minor": 0
      },
      "text/plain": [
       "VBox()"
      ]
     },
     "metadata": {},
     "output_type": "display_data"
    },
    {
     "data": {
      "application/vnd.jupyter.widget-view+json": {
       "model_id": "",
       "version_major": 2,
       "version_minor": 0
      },
      "text/plain": [
       "FloatProgress(value=0.0, bar_style='info', description='Progress:', layout=Layout(height='25px', width='50%'),…"
      ]
     },
     "metadata": {},
     "output_type": "display_data"
    }
   ],
   "source": [
    "# PART D"
   ]
  },
  {
   "cell_type": "code",
   "execution_count": null,
   "id": "aaf2d9f3-07f9-45f6-8e95-c357d031e505",
   "metadata": {
    "execution": {
     "iopub.execute_input": "2022-05-30T20:57:35.646927Z",
     "iopub.status.busy": "2022-05-30T20:57:35.646622Z",
     "iopub.status.idle": "2022-05-30T20:57:45.075037Z"
    },
    "tags": []
   },
   "outputs": [
    {
     "data": {
      "application/vnd.jupyter.widget-view+json": {
       "model_id": "2f858395f62d411181c555749cc6c678",
       "version_major": 2,
       "version_minor": 0
      },
      "text/plain": [
       "VBox()"
      ]
     },
     "metadata": {},
     "output_type": "display_data"
    },
    {
     "data": {
      "application/vnd.jupyter.widget-view+json": {
       "model_id": "",
       "version_major": 2,
       "version_minor": 0
      },
      "text/plain": [
       "FloatProgress(value=0.0, bar_style='info', description='Progress:', layout=Layout(height='25px', width='50%'),…"
      ]
     },
     "metadata": {},
     "output_type": "display_data"
    },
    {
     "name": "stdout",
     "output_type": "stream",
     "text": [
      "682102"
     ]
    }
   ],
   "source": [
    "totalNumberOfAnswers = answers.count()\n",
    "totalNumberOfAnswers"
   ]
  },
  {
   "cell_type": "code",
   "execution_count": null,
   "id": "afd365f2-17e3-4726-b01d-98fd3d706919",
   "metadata": {
    "execution": {
     "iopub.execute_input": "2022-05-30T20:57:45.077639Z",
     "iopub.status.busy": "2022-05-30T20:57:45.076837Z",
     "iopub.status.idle": "2022-05-30T20:57:46.444293Z"
    },
    "tags": []
   },
   "outputs": [
    {
     "data": {
      "application/vnd.jupyter.widget-view+json": {
       "model_id": "5f753e7407464578a0c885d8254e260e",
       "version_major": 2,
       "version_minor": 0
      },
      "text/plain": [
       "VBox()"
      ]
     },
     "metadata": {},
     "output_type": "display_data"
    },
    {
     "data": {
      "application/vnd.jupyter.widget-view+json": {
       "model_id": "",
       "version_major": 2,
       "version_minor": 0
      },
      "text/plain": [
       "FloatProgress(value=0.0, bar_style='info', description='Progress:', layout=Layout(height='25px', width='50%'),…"
      ]
     },
     "metadata": {},
     "output_type": "display_data"
    },
    {
     "name": "stdout",
     "output_type": "stream",
     "text": [
      "+------+----------+----------------+--------------------+-----------+--------+-----+---------+--------------------+--------------------+-----------+\n",
      "|    id|postTypeId|acceptedAnswerId|        creationDate|ownerUserId|parentId|score|viewCount|                body|                tags|answerCount|\n",
      "+------+----------+----------------+--------------------+-----------+--------+-----+---------+--------------------+--------------------+-----------+\n",
      "|670560|         1|          670613|2013-11-06 20:31:...|     222470|    null|  -18|     1634|<p>Now, I know th...|<windows-xp><inte...|          2|\n",
      "+------+----------+----------------+--------------------+-----------+--------+-----+---------+--------------------+--------------------+-----------+"
     ]
    }
   ],
   "source": [
    "posts.filter(col('acceptedAnswerId') == 670613).show(5)"
   ]
  },
  {
   "cell_type": "code",
   "execution_count": null,
   "id": "103845e2-3c75-482c-a729-fe10f96b19e2",
   "metadata": {
    "execution": {
     "iopub.execute_input": "2022-05-30T20:57:46.446073Z",
     "iopub.status.busy": "2022-05-30T20:57:46.445638Z",
     "iopub.status.idle": "2022-05-30T20:57:47.848427Z"
    },
    "tags": []
   },
   "outputs": [
    {
     "data": {
      "application/vnd.jupyter.widget-view+json": {
       "model_id": "32dae3eb58204723848d20bcc64eab3e",
       "version_major": 2,
       "version_minor": 0
      },
      "text/plain": [
       "VBox()"
      ]
     },
     "metadata": {},
     "output_type": "display_data"
    },
    {
     "data": {
      "application/vnd.jupyter.widget-view+json": {
       "model_id": "",
       "version_major": 2,
       "version_minor": 0
      },
      "text/plain": [
       "FloatProgress(value=0.0, bar_style='info', description='Progress:', layout=Layout(height='25px', width='50%'),…"
      ]
     },
     "metadata": {},
     "output_type": "display_data"
    },
    {
     "name": "stdout",
     "output_type": "stream",
     "text": [
      "+------+----------+----------------+--------------------+-----------+--------+-----+---------+--------------------+----+-----------+\n",
      "|    id|postTypeId|acceptedAnswerId|        creationDate|ownerUserId|parentId|score|viewCount|                body|tags|answerCount|\n",
      "+------+----------+----------------+--------------------+-----------+--------+-----+---------+--------------------+----+-----------+\n",
      "|670613|         2|            null|2013-11-06 22:39:...|     270058|  670560|    8|     null|<p>This isn't goi...|null|       null|\n",
      "+------+----------+----------------+--------------------+-----------+--------+-----+---------+--------------------+----+-----------+"
     ]
    }
   ],
   "source": [
    "posts.filter(col('id') == 670613).show(5)"
   ]
  },
  {
   "cell_type": "code",
   "execution_count": null,
   "id": "25563ae5-bf38-4659-a2dc-5f0c04c4816a",
   "metadata": {
    "execution": {
     "iopub.execute_input": "2022-05-30T20:57:47.860291Z",
     "iopub.status.busy": "2022-05-30T20:57:47.860082Z",
     "iopub.status.idle": "2022-05-30T20:57:49.138240Z"
    },
    "tags": []
   },
   "outputs": [
    {
     "data": {
      "application/vnd.jupyter.widget-view+json": {
       "model_id": "ffd78b8fc9ab4f09bd943933bcebaf5e",
       "version_major": 2,
       "version_minor": 0
      },
      "text/plain": [
       "VBox()"
      ]
     },
     "metadata": {},
     "output_type": "display_data"
    },
    {
     "data": {
      "application/vnd.jupyter.widget-view+json": {
       "model_id": "",
       "version_major": 2,
       "version_minor": 0
      },
      "text/plain": [
       "FloatProgress(value=0.0, bar_style='info', description='Progress:', layout=Layout(height='25px', width='50%'),…"
      ]
     },
     "metadata": {},
     "output_type": "display_data"
    },
    {
     "name": "stdout",
     "output_type": "stream",
     "text": [
      "+-------+----------+----------------+--------------------+-----------+--------+-----+---------+--------------------+----+-----------+\n",
      "|     id|postTypeId|acceptedAnswerId|        creationDate|ownerUserId|parentId|score|viewCount|                body|tags|answerCount|\n",
      "+-------+----------+----------------+--------------------+-----------+--------+-----+---------+--------------------+----+-----------+\n",
      "|1665062|         2|            null|2021-07-27 22:41:...|     432690| 1664879|    0|     null|<p><code>set -- *...|null|       null|\n",
      "|1665065|         2|            null|2021-07-27 23:28:...|     401553| 1665049|    0|     null|<ul>\n",
      "<li>In Thund...|null|       null|\n",
      "|1665067|         2|            null|2021-07-28 00:06:...|     210417| 1664980|    2|     null|<p>Disconnect the...|null|       null|\n",
      "|1665068|         2|            null|2021-07-28 00:21:...|     256499|  648860|    0|     null|<p>AudioPick for ...|null|       null|\n",
      "|1665071|         2|            null|2021-07-28 00:57:...|     888318| 1661844|    0|     null|<p>Finally figure...|null|       null|\n",
      "|1665073|         2|            null|2021-07-28 01:27:...|    1347862|  716344|    0|     null|<p>I've seen simi...|null|       null|\n",
      "|1665082|         2|            null|2021-07-28 03:21:...|    1407521| 1665076|    0|     null|<p>Since the (bla...|null|       null|\n",
      "|1665083|         2|            null|2021-07-28 03:35:...|     106520| 1665020|    1|     null|<p>The comment fr...|null|       null|\n",
      "|1665085|         2|            null|2021-07-28 03:52:...|      81449| 1665084|    1|     null|<p>There is a hid...|null|       null|\n",
      "|1665087|         2|            null|2021-07-28 04:18:...|     470994| 1664983|    2|     null|<p><a href=\"https...|null|       null|\n",
      "+-------+----------+----------------+--------------------+-----------+--------+-----+---------+--------------------+----+-----------+\n",
      "only showing top 10 rows"
     ]
    }
   ],
   "source": [
    "answers.show(10)"
   ]
  },
  {
   "cell_type": "code",
   "execution_count": null,
   "id": "e13a51e3-fe86-4f98-a588-b03f42498360",
   "metadata": {
    "execution": {
     "iopub.execute_input": "2022-05-30T20:57:49.225457Z",
     "iopub.status.busy": "2022-05-30T20:57:49.143583Z",
     "iopub.status.idle": "2022-05-30T20:57:50.526629Z"
    },
    "tags": []
   },
   "outputs": [
    {
     "data": {
      "application/vnd.jupyter.widget-view+json": {
       "model_id": "b6c8eb1baabc4b2bb227ce9b4d4149aa",
       "version_major": 2,
       "version_minor": 0
      },
      "text/plain": [
       "VBox()"
      ]
     },
     "metadata": {},
     "output_type": "display_data"
    },
    {
     "data": {
      "application/vnd.jupyter.widget-view+json": {
       "model_id": "",
       "version_major": 2,
       "version_minor": 0
      },
      "text/plain": [
       "FloatProgress(value=0.0, bar_style='info', description='Progress:', layout=Layout(height='25px', width='50%'),…"
      ]
     },
     "metadata": {},
     "output_type": "display_data"
    },
    {
     "name": "stdout",
     "output_type": "stream",
     "text": [
      "+-------+----------+----------------+--------------------+-----------+--------+-----+---------+--------------------+--------------------+-----------+\n",
      "|     id|postTypeId|acceptedAnswerId|        creationDate|ownerUserId|parentId|score|viewCount|                body|                tags|answerCount|\n",
      "+-------+----------+----------------+--------------------+-----------+--------+-----+---------+--------------------+--------------------+-----------+\n",
      "|1665063|         1|            null|2021-07-27 23:10:...|    1476016|    null|    0|       19|<p>I'm working in...|<microsoft-excel>...|          0|\n",
      "|1665064|         1|         1665155|2021-07-27 23:24:...|      62286|    null|    0|      110|<p>I've written a...|<command-line><ff...|          1|\n",
      "|1665066|         1|            null|2021-07-27 23:35:...|    1476043|    null|    1|       55|<p>My PC 'died' a...|<motherboard><pow...|          0|\n",
      "|1665070|         1|            null|2021-07-28 00:33:...|    1476085|    null|    1|        9|<p>I am a newbie ...|       <python><m4a>|          0|\n",
      "|1665072|         1|            null|2021-07-28 01:19:...|    1476106|    null|    0|       36|<p>I am trying to...|<linux><macos><mo...|          0|\n",
      "|1665074|         1|            null|2021-07-28 01:32:...|     205967|    null|   -1|       27|<p>as above. It i...|<google-chrome><g...|          1|\n",
      "|1665076|         1|            null|2021-07-28 01:47:...|    1122470|    null|    0|       45|<p>I'm trying to ...|<microsoft-excel>...|          1|\n",
      "|1665077|         1|            null|2021-07-28 01:51:...|    1476065|    null|    0|       27|<p>I have a Micro...|<linux><drivers><...|          0|\n",
      "|1665078|         1|            null|2021-07-28 02:40:...|      25371|    null|    1|       17|<p>I have the fol...|<ssh><docker><ope...|          0|\n",
      "|1665079|         1|            null|2021-07-28 02:47:...|    1476197|    null|    0|      272|<p>ETA: to clarif...|<windows-10><slee...|          0|\n",
      "+-------+----------+----------------+--------------------+-----------+--------+-----+---------+--------------------+--------------------+-----------+\n",
      "only showing top 10 rows"
     ]
    }
   ],
   "source": [
    "questions.show(10)"
   ]
  },
  {
   "cell_type": "code",
   "execution_count": null,
   "id": "a202bd9a-a585-48f6-8a52-96c3be467d48",
   "metadata": {
    "execution": {
     "iopub.execute_input": "2022-05-30T20:57:50.539036Z",
     "iopub.status.busy": "2022-05-30T20:57:50.538842Z",
     "iopub.status.idle": "2022-05-30T20:58:11.233230Z"
    },
    "tags": []
   },
   "outputs": [
    {
     "data": {
      "application/vnd.jupyter.widget-view+json": {
       "model_id": "094632adccf24ca38ef8c9247deb36cc",
       "version_major": 2,
       "version_minor": 0
      },
      "text/plain": [
       "VBox()"
      ]
     },
     "metadata": {},
     "output_type": "display_data"
    },
    {
     "data": {
      "application/vnd.jupyter.widget-view+json": {
       "model_id": "",
       "version_major": 2,
       "version_minor": 0
      },
      "text/plain": [
       "FloatProgress(value=0.0, bar_style='info', description='Progress:', layout=Layout(height='25px', width='50%'),…"
      ]
     },
     "metadata": {},
     "output_type": "display_data"
    },
    {
     "name": "stdout",
     "output_type": "stream",
     "text": [
      "+----------+-----------------+-----------+----------------+--------+\n",
      "|questionId|maxScoredAnswerId|answerScore|acceptedAnswerId|parentId|\n",
      "+----------+-----------------+-----------+----------------+--------+\n",
      "|        94|              103|         15|             103|      94|\n",
      "|       274|             1830|          7|          652045|     274|\n",
      "|       385|             2530|         33|            2530|     385|\n",
      "|       463|             5285|          3|            5285|     463|\n",
      "|       541|              553|          7|             553|     541|\n",
      "+----------+-----------------+-----------+----------------+--------+\n",
      "only showing top 5 rows\n",
      "\n",
      "+----------+-----------------+-----------+----------------+--------+\n",
      "|questionId|maxScoredAnswerId|answerScore|acceptedAnswerId|parentId|\n",
      "+----------+-----------------+-----------+----------------+--------+\n",
      "|        94|              103|         15|             103|      94|\n",
      "|       385|             2530|         33|            2530|     385|\n",
      "|       463|             5285|          3|            5285|     463|\n",
      "|       541|              553|          7|             553|     541|\n",
      "|      1175|             1196|          3|            1196|    1175|\n",
      "+----------+-----------------+-----------+----------------+--------+\n",
      "only showing top 5 rows\n",
      "\n",
      "0.138478229272648"
     ]
    }
   ],
   "source": [
    "from pyspark.sql.window import Window\n",
    "from pyspark.sql.functions import col, row_number\n",
    "windowDef = Window.partitionBy(\"questionId\").orderBy(col(\"answerScore\").desc())\n",
    "\n",
    "questionsWithMaxScoredAnswers = answers.alias('answers') \\\n",
    "    .join(questions.alias('questions'), col('answers.parentId') == col('questions.id')) \\\n",
    "    .select(\n",
    "        col('questions.id').alias('questionId'),\n",
    "        col('answers.id').alias('maxScoredAnswerId'),\n",
    "        col('answers.score').alias('answerScore'),\n",
    "        col('questions.acceptedAnswerId').alias('acceptedAnswerId'),\n",
    "        col('answers.parentId').alias('parentId'),\n",
    "    ) \\\n",
    "    .filter(col('acceptedAnswerId').isNotNull()) \\\n",
    "    .withColumn(\"row\",row_number().over(windowDef)) \\\n",
    "    .filter(col(\"row\") == 1).drop(\"row\")\n",
    "\n",
    "questionsWithMaxScoredAnswers.show(5)\n",
    "totalQuestionsWithMaxScoredAnswersCount = questionsWithMaxScoredAnswers.count()\n",
    "questionsWithMaxScoredAnswersAsAcceptedAnswer = questionsWithMaxScoredAnswers.filter(col('maxScoredAnswerId') == col('acceptedAnswerId'))\n",
    "questionsWithMaxScoredAnswersAsAcceptedAnswer.show(5)\n",
    "questionsWithMaxScoredAnswersAsAcceptedAnswerCount = questionsWithMaxScoredAnswersAsAcceptedAnswer.count()\n",
    "(totalQuestionsWithMaxScoredAnswersCount - questionsWithMaxScoredAnswersAsAcceptedAnswerCount) / totalQuestionsWithMaxScoredAnswersCount\n",
    "\n",
    "\n"
   ]
  },
  {
   "cell_type": "code",
   "execution_count": null,
   "id": "96ad6a31-8964-40b6-bda7-b22d42c85edc",
   "metadata": {
    "execution": {
     "iopub.execute_input": "2022-05-30T20:58:11.236618Z",
     "iopub.status.busy": "2022-05-30T20:58:11.235972Z",
     "iopub.status.idle": "2022-05-30T20:58:11.659936Z"
    },
    "tags": []
   },
   "outputs": [
    {
     "data": {
      "application/vnd.jupyter.widget-view+json": {
       "model_id": "0f2eb28aec734cf2a8b491678cfa7eb9",
       "version_major": 2,
       "version_minor": 0
      },
      "text/plain": [
       "VBox()"
      ]
     },
     "metadata": {},
     "output_type": "display_data"
    },
    {
     "data": {
      "application/vnd.jupyter.widget-view+json": {
       "model_id": "",
       "version_major": 2,
       "version_minor": 0
      },
      "text/plain": [
       "FloatProgress(value=0.0, bar_style='info', description='Progress:', layout=Layout(height='25px', width='50%'),…"
      ]
     },
     "metadata": {},
     "output_type": "display_data"
    }
   ],
   "source": [
    "# PART E"
   ]
  },
  {
   "cell_type": "code",
   "execution_count": null,
   "id": "74bc3f2e-d62e-45e8-8048-8d20a2957c3d",
   "metadata": {
    "execution": {
     "iopub.execute_input": "2022-05-30T20:58:11.662662Z",
     "iopub.status.busy": "2022-05-30T20:58:11.661363Z",
     "iopub.status.idle": "2022-05-30T20:58:21.662268Z"
    },
    "tags": []
   },
   "outputs": [
    {
     "data": {
      "application/vnd.jupyter.widget-view+json": {
       "model_id": "46e1f66f63f34af795cdc3596f79f6d0",
       "version_major": 2,
       "version_minor": 0
      },
      "text/plain": [
       "VBox()"
      ]
     },
     "metadata": {},
     "output_type": "display_data"
    },
    {
     "data": {
      "application/vnd.jupyter.widget-view+json": {
       "model_id": "",
       "version_major": 2,
       "version_minor": 0
      },
      "text/plain": [
       "FloatProgress(value=0.0, bar_style='info', description='Progress:', layout=Layout(height='25px', width='50%'),…"
      ]
     },
     "metadata": {},
     "output_type": "display_data"
    },
    {
     "name": "stdout",
     "output_type": "stream",
     "text": [
      "+-------+-----------------+------------------+------------------+------------------+-----------------+-----------------+\n",
      "|summary|       questionId| maxScoredAnswerId|       answerScore|       answerCount| acceptedAnswerId|         parentId|\n",
      "+-------+-----------------+------------------+------------------+------------------+-----------------+-----------------+\n",
      "|  count|           682102|            682102|            682102|            682102|           371651|           682102|\n",
      "|   mean|695777.3822038346| 782710.2747682898|   2.8990913382456|2.9147400242192516| 641286.846030281|695777.3822038346|\n",
      "| stddev|480105.0488046616|491727.08406404505|14.162407723530494|2.6758922705436534|473208.4261636393|480105.0488046616|\n",
      "|    min|                1|                25|               -14|                 1|               42|                1|\n",
      "|    max|          1691313|           1691314|              2761|                40|          1691286|          1691313|\n",
      "+-------+-----------------+------------------+------------------+------------------+-----------------+-----------------+\n",
      "\n",
      "+-------+------------------+-----------------+-----------------+------------------+-----------------+------------------+\n",
      "|summary|        questionId|maxScoredAnswerId|      answerScore|       answerCount| acceptedAnswerId|          parentId|\n",
      "+-------+------------------+-----------------+-----------------+------------------+-----------------+------------------+\n",
      "|  count|            371651|           371651|           371651|            371651|           371651|            371651|\n",
      "|   mean| 623793.2811885345|717341.1019558673|4.007490898719498|3.2290159316132607| 641286.846030281| 623793.2811885345|\n",
      "| stddev|470233.14198626747|489851.0731144438|17.14100331779281| 2.925739278237352|473208.4261636394|470233.14198626747|\n",
      "|    min|                 1|               38|              -14|                 1|               42|                 1|\n",
      "|    max|           1691277|          1691307|             2101|                40|          1691286|           1691277|\n",
      "+-------+------------------+-----------------+-----------------+------------------+-----------------+------------------+"
     ]
    }
   ],
   "source": [
    "questionsWithAnswers = answers.alias('answers').join(questions.alias('questions'), col('answers.parentId') == col('questions.id')) \\\n",
    "    .select(\n",
    "        col('questions.id').alias('questionId'),\n",
    "        col('answers.id').alias('maxScoredAnswerId'),\n",
    "        col('answers.score').alias('answerScore'),\n",
    "        col('questions.answerCount').alias('answerCount'),\n",
    "        col('questions.acceptedAnswerId').alias('acceptedAnswerId'),\n",
    "        col('answers.parentId').alias('parentId'),\n",
    "    ) \\\n",
    "    .filter(col('answerCount') > 0).cache()\n",
    "\n",
    "questionsWithAnswers.describe().show()\n",
    "\n",
    "questionsWithAcceptedAnswers = questionsWithAnswers.filter(col('acceptedAnswerId').isNotNull()).cache()\n",
    "\n",
    "questionsWithAcceptedAnswers.describe().show()\n",
    "\n",
    "\n"
   ]
  },
  {
   "cell_type": "code",
   "execution_count": null,
   "id": "3686cc74-02c6-41e1-94dd-f8d7683c3e64",
   "metadata": {
    "execution": {
     "iopub.execute_input": "2022-05-30T20:58:21.663978Z",
     "iopub.status.busy": "2022-05-30T20:58:21.663543Z",
     "iopub.status.idle": "2022-05-30T20:58:22.645262Z"
    },
    "tags": []
   },
   "outputs": [
    {
     "data": {
      "application/vnd.jupyter.widget-view+json": {
       "model_id": "e8476051fe464589a4ef98efd161cba1",
       "version_major": 2,
       "version_minor": 0
      },
      "text/plain": [
       "VBox()"
      ]
     },
     "metadata": {},
     "output_type": "display_data"
    },
    {
     "data": {
      "application/vnd.jupyter.widget-view+json": {
       "model_id": "",
       "version_major": 2,
       "version_minor": 0
      },
      "text/plain": [
       "FloatProgress(value=0.0, bar_style='info', description='Progress:', layout=Layout(height='25px', width='50%'),…"
      ]
     },
     "metadata": {},
     "output_type": "display_data"
    }
   ],
   "source": [
    "# PART F"
   ]
  },
  {
   "cell_type": "code",
   "execution_count": 49,
   "id": "a6c3fcab-53ae-40d5-bb17-890d992a79e5",
   "metadata": {
    "execution": {
     "iopub.execute_input": "2022-05-30T21:02:58.563303Z",
     "iopub.status.busy": "2022-05-30T21:02:58.563058Z",
     "iopub.status.idle": "2022-05-30T21:03:01.143620Z",
     "shell.execute_reply": "2022-05-30T21:03:01.142735Z",
     "shell.execute_reply.started": "2022-05-30T21:02:58.563275Z"
    },
    "tags": []
   },
   "outputs": [
    {
     "data": {
      "application/vnd.jupyter.widget-view+json": {
       "model_id": "350b4a0756234d06b1018103b64c6acf",
       "version_major": 2,
       "version_minor": 0
      },
      "text/plain": [
       "VBox()"
      ]
     },
     "metadata": {},
     "output_type": "display_data"
    },
    {
     "data": {
      "application/vnd.jupyter.widget-view+json": {
       "model_id": "",
       "version_major": 2,
       "version_minor": 0
      },
      "text/plain": [
       "FloatProgress(value=0.0, bar_style='info', description='Progress:', layout=Layout(height='25px', width='50%'),…"
      ]
     },
     "metadata": {},
     "output_type": "display_data"
    },
    {
     "name": "stdout",
     "output_type": "stream",
     "text": [
      "+-------+----------+----------------+--------------------+-----------+--------+-----+---------+--------------------+--------------------+-----------+--------------------+------------------+\n",
      "|     id|postTypeId|acceptedAnswerId|        creationDate|ownerUserId|parentId|score|viewCount|                body|                tags|answerCount|            tags_arr|               tag|\n",
      "+-------+----------+----------------+--------------------+-----------+--------+-----+---------+--------------------+--------------------+-----------+--------------------+------------------+\n",
      "|1665063|         1|            null|2021-07-27 23:10:...|    1476016|    null|    0|       19|<p>I'm working in...|[<microsoft-excel...|          0|[microsoft-excel,...|   microsoft-excel|\n",
      "|1665063|         1|            null|2021-07-27 23:10:...|    1476016|    null|    0|       19|<p>I'm working in...|[<microsoft-excel...|          0|[microsoft-excel,...|worksheet-function|\n",
      "|1665063|         1|            null|2021-07-27 23:10:...|    1476016|    null|    0|       19|<p>I'm working in...|[<microsoft-excel...|          0|[microsoft-excel,...|            mailto|\n",
      "|1665064|         1|         1665155|2021-07-27 23:24:...|      62286|    null|    0|      110|<p>I've written a...|[<command-line, f...|          1|[command-line, ff...|      command-line|\n",
      "|1665064|         1|         1665155|2021-07-27 23:24:...|      62286|    null|    0|      110|<p>I've written a...|[<command-line, f...|          1|[command-line, ff...|            ffmpeg|\n",
      "+-------+----------+----------------+--------------------+-----------+--------+-----+---------+--------------------+--------------------+-----------+--------------------+------------------+\n",
      "only showing top 5 rows"
     ]
    }
   ],
   "source": [
    "postsWithExplodedTags = (\n",
    "    posts \\\n",
    "    .withColumn('tags', split('tags', '><')) \\\n",
    "    .selectExpr(\n",
    "        '*',\n",
    "        \"TRANSFORM(tags, value -> regexp_replace(value, '(>|<)', '')) AS tags_arr\"\n",
    "    )\n",
    ") \\\n",
    ".withColumn('tag', explode('tags_arr')).cache()\n",
    "\n",
    "postsWithExplodedTags.show(5)"
   ]
  },
  {
   "cell_type": "code",
   "execution_count": null,
   "id": "bdbbecb4-a4f1-4763-946f-ebd069037470",
   "metadata": {
    "execution": {
     "iopub.execute_input": "2022-05-30T20:58:28.134539Z",
     "iopub.status.busy": "2022-05-30T20:58:28.134234Z",
     "iopub.status.idle": "2022-05-30T20:58:42.227261Z"
    },
    "tags": []
   },
   "outputs": [
    {
     "data": {
      "application/vnd.jupyter.widget-view+json": {
       "model_id": "02e9a2d37ad94c3bbaa3dec243503e6a",
       "version_major": 2,
       "version_minor": 0
      },
      "text/plain": [
       "VBox()"
      ]
     },
     "metadata": {},
     "output_type": "display_data"
    },
    {
     "data": {
      "application/vnd.jupyter.widget-view+json": {
       "model_id": "",
       "version_major": 2,
       "version_minor": 0
      },
      "text/plain": [
       "FloatProgress(value=0.0, bar_style='info', description='Progress:', layout=Layout(height='25px', width='50%'),…"
      ]
     },
     "metadata": {},
     "output_type": "display_data"
    },
    {
     "name": "stdout",
     "output_type": "stream",
     "text": [
      "+---------------+--------------+\n",
      "|            tag|sum(viewCount)|\n",
      "+---------------+--------------+\n",
      "|        windows|     401157172|\n",
      "|      windows-7|     389098929|\n",
      "|          linux|     280800662|\n",
      "|     windows-10|     173364719|\n",
      "|microsoft-excel|     142952112|\n",
      "+---------------+--------------+\n",
      "only showing top 5 rows"
     ]
    }
   ],
   "source": [
    "postsWithExplodedTags.groupBy('tag').sum('viewCount').orderBy(desc('sum(viewCount)')).show(5)"
   ]
  },
  {
   "cell_type": "code",
   "execution_count": null,
   "id": "31b1810c-c06d-4625-88dd-4c035c374f02",
   "metadata": {
    "execution": {
     "iopub.execute_input": "2022-05-30T20:58:42.231770Z",
     "iopub.status.busy": "2022-05-30T20:58:42.231530Z",
     "iopub.status.idle": "2022-05-30T20:58:43.232943Z"
    },
    "tags": []
   },
   "outputs": [
    {
     "data": {
      "application/vnd.jupyter.widget-view+json": {
       "model_id": "ab8ac64f3acd403f97008d368aa3d0c2",
       "version_major": 2,
       "version_minor": 0
      },
      "text/plain": [
       "VBox()"
      ]
     },
     "metadata": {},
     "output_type": "display_data"
    },
    {
     "data": {
      "application/vnd.jupyter.widget-view+json": {
       "model_id": "",
       "version_major": 2,
       "version_minor": 0
      },
      "text/plain": [
       "FloatProgress(value=0.0, bar_style='info', description='Progress:', layout=Layout(height='25px', width='50%'),…"
      ]
     },
     "metadata": {},
     "output_type": "display_data"
    }
   ],
   "source": [
    "# PART G"
   ]
  },
  {
   "cell_type": "code",
   "execution_count": null,
   "id": "bf71eb22-e92e-420f-a188-466b9d20d078",
   "metadata": {
    "execution": {
     "iopub.execute_input": "2022-05-30T20:58:43.234407Z",
     "iopub.status.busy": "2022-05-30T20:58:43.234163Z",
     "iopub.status.idle": "2022-05-30T20:58:47.940962Z"
    },
    "tags": []
   },
   "outputs": [
    {
     "data": {
      "application/vnd.jupyter.widget-view+json": {
       "model_id": "8ffb004afdea4daeac36b207b63b4302",
       "version_major": 2,
       "version_minor": 0
      },
      "text/plain": [
       "VBox()"
      ]
     },
     "metadata": {},
     "output_type": "display_data"
    },
    {
     "data": {
      "application/vnd.jupyter.widget-view+json": {
       "model_id": "",
       "version_major": 2,
       "version_minor": 0
      },
      "text/plain": [
       "FloatProgress(value=0.0, bar_style='info', description='Progress:', layout=Layout(height='25px', width='50%'),…"
      ]
     },
     "metadata": {},
     "output_type": "display_data"
    },
    {
     "name": "stdout",
     "output_type": "stream",
     "text": [
      "<matplotlib.axes._subplots.AxesSubplot object at 0x7fac721f1d10>"
     ]
    }
   ],
   "source": [
    "from pyspark.sql.functions import when, lit\n",
    "\n",
    "postsByTagInTime = (\n",
    "   postsWithExplodedTags\n",
    "    .groupBy(\n",
    "        window('creationDate', '1 week')\n",
    "    )\n",
    "    .agg(\n",
    "        sum(when(col('tag') == 'windows', lit(1)).otherwise(lit(0))).alias('windows'),\n",
    "        sum(when(col('tag') == 'windows-7', lit(1)).otherwise(lit(0))).alias('windows-7'),\n",
    "        sum(when(col('tag') == 'linux', lit(1)).otherwise(lit(0))).alias('linux'),\n",
    "        sum(when(col('tag') == 'windows-10', lit(1)).otherwise(lit(0))).alias('windows-10'),\n",
    "        sum(when(col('tag') == 'microsoft-excel|', lit(1)).otherwise(lit(0))).alias('microsoft-excel|'),\n",
    "    )\n",
    "    .withColumn('date', col('window.start').cast('date'))\n",
    "    .orderBy('date') \n",
    ").toPandas()\n",
    "\n",
    "postsByTagInTime.plot(\n",
    "    x='date', \n",
    "    figsize=(12, 6), \n",
    "    title='Number of posts per week by tag',\n",
    "    legend=True,\n",
    "    xlabel='Date',\n",
    "    ylabel='Number of posts per week',\n",
    "    kind='line'\n",
    ")"
   ]
  },
  {
   "cell_type": "code",
   "execution_count": null,
   "id": "ccf3e9d8-765e-48c6-9860-47434a39e2c8",
   "metadata": {
    "execution": {
     "iopub.execute_input": "2022-05-30T20:58:47.945509Z",
     "iopub.status.busy": "2022-05-30T20:58:47.942254Z",
     "iopub.status.idle": "2022-05-30T20:58:48.946965Z"
    },
    "tags": []
   },
   "outputs": [
    {
     "data": {
      "application/vnd.jupyter.widget-view+json": {
       "model_id": "",
       "version_major": 2,
       "version_minor": 0
      },
      "text/plain": [
       "FloatProgress(value=0.0, bar_style='info', description='Progress:', layout=Layout(height='25px', width='50%'),…"
      ]
     },
     "metadata": {},
     "output_type": "display_data"
    },
    {
     "data": {
      "image/png": "[encoded data removed]",
      "text/plain": [
       "<IPython.core.display.Image object>"
      ]
     },
     "metadata": {},
     "output_type": "display_data"
    }
   ],
   "source": [
    "%matplot plot"
   ]
  },
  {
   "cell_type": "code",
   "execution_count": null,
   "id": "03389a8c-405f-4fe9-b1e1-ca944d5eeda3",
   "metadata": {
    "execution": {
     "iopub.execute_input": "2022-05-30T20:58:48.948362Z",
     "iopub.status.busy": "2022-05-30T20:58:48.948103Z",
     "iopub.status.idle": "2022-05-30T20:58:50.038328Z"
    },
    "tags": []
   },
   "outputs": [
    {
     "data": {
      "application/vnd.jupyter.widget-view+json": {
       "model_id": "71cfedb477ff45ef9fe69dbae4d86834",
       "version_major": 2,
       "version_minor": 0
      },
      "text/plain": [
       "VBox()"
      ]
     },
     "metadata": {},
     "output_type": "display_data"
    },
    {
     "data": {
      "application/vnd.jupyter.widget-view+json": {
       "model_id": "",
       "version_major": 2,
       "version_minor": 0
      },
      "text/plain": [
       "FloatProgress(value=0.0, bar_style='info', description='Progress:', layout=Layout(height='25px', width='50%'),…"
      ]
     },
     "metadata": {},
     "output_type": "display_data"
    }
   ],
   "source": [
    "# PART H"
   ]
  },
  {
   "cell_type": "code",
   "execution_count": 107,
   "id": "6077519f-03a3-4a0f-ac56-7898886c62db",
   "metadata": {
    "execution": {
     "iopub.execute_input": "2022-05-30T22:23:14.679491Z",
     "iopub.status.busy": "2022-05-30T22:23:14.678806Z",
     "iopub.status.idle": "2022-05-30T22:23:24.368918Z",
     "shell.execute_reply": "2022-05-30T22:23:24.366397Z",
     "shell.execute_reply.started": "2022-05-30T22:23:14.679453Z"
    },
    "tags": []
   },
   "outputs": [
    {
     "data": {
      "application/vnd.jupyter.widget-view+json": {
       "model_id": "d54ad25e5c144192b153ffcf35101547",
       "version_major": 2,
       "version_minor": 0
      },
      "text/plain": [
       "VBox()"
      ]
     },
     "metadata": {},
     "output_type": "display_data"
    },
    {
     "data": {
      "application/vnd.jupyter.widget-view+json": {
       "model_id": "",
       "version_major": 2,
       "version_minor": 0
      },
      "text/plain": [
       "FloatProgress(value=0.0, bar_style='info', description='Progress:', layout=Layout(height='25px', width='50%'),…"
      ]
     },
     "metadata": {},
     "output_type": "display_data"
    },
    {
     "name": "stdout",
     "output_type": "stream",
     "text": [
      "+-------+---------+\n",
      "|   word|wordCount|\n",
      "+-------+---------+\n",
      "|windows|    69235|\n",
      "|   file|    24986|\n",
      "|  files|    17490|\n",
      "|windows|    14595|\n",
      "|  excel|    13595|\n",
      "|  linux|    13240|\n",
      "|  drive|    12130|\n",
      "|command|    10822|\n",
      "|network|    10756|\n",
      "| ubuntu|    10287|\n",
      "+-------+---------+\n",
      "only showing top 10 rows"
     ]
    }
   ],
   "source": [
    "from pyspark.sql.functions import regexp_replace, lower\n",
    "\n",
    "stopWordsList = [\"able\",\"about\",\"above\",\"abroad\",\"according\",\"accordingly\",\"across\",\"actually\",\"adj\",\"after\",\"afterwards\",\"again\",\"against\",\"ago\",\"ahead\",\"ain't\",\"all\",\"allow\",\"allows\",\"almost\",\"alone\",\"along\",\"alongside\",\"already\",\"also\",\"although\",\"always\",\"am\",\"amid\",\"amidst\",\"among\",\"amongst\",\"an\",\"and\",\"another\",\"any\",\"anybody\",\"anyhow\",\"anyone\",\"anything\",\"anyway\",\"anyways\",\"anywhere\",\"apart\",\"appear\",\"appreciate\",\"appropriate\",\"are\",\"aren't\",\"around\",\"as\",\"a's\",\"aside\",\"ask\",\"asking\",\"associated\",\"at\",\"available\",\"away\",\"awfully\",\"back\",\"backward\",\"backwards\",\"be\",\"became\",\"because\",\"become\",\"becomes\",\"becoming\",\"been\",\"before\",\"beforehand\",\"begin\",\"behind\",\"being\",\"believe\",\"below\",\"beside\",\"besides\",\"best\",\"better\",\"between\",\"beyond\",\"both\",\"brief\",\"but\",\"by\",\"came\",\"can\",\"cannot\",\"cant\",\"can't\",\"caption\",\"cause\",\"causes\",\"certain\",\"certainly\",\"changes\",\"clearly\",\"c'mon\",\"co\",\"co.\",\"com\",\"come\",\"comes\",\"concerning\",\"consequently\",\"consider\",\"considering\",\"contain\",\"containing\",\"contains\",\"corresponding\",\"could\",\"couldn't\",\"course\",\"c's\",\"currently\",\"dare\",\"daren't\",\"definitely\",\"described\",\"despite\",\"did\",\"didn't\",\"different\",\"directly\",\"do\",\"does\",\"doesn't\",\"doing\",\"done\",\"don't\",\"down\",\"downwards\",\"during\",\"each\",\"edu\",\"eg\",\"eight\",\"eighty\",\"either\",\"else\",\"elsewhere\",\"end\",\"ending\",\"enough\",\"entirely\",\"especially\",\"et\",\"etc\",\"even\",\"ever\",\"evermore\",\"every\",\"everybody\",\"everyone\",\"everything\",\"everywhere\",\"ex\",\"exactly\",\"example\",\"except\",\"fairly\",\"far\",\"farther\",\"few\",\"fewer\",\"fifth\",\"first\",\"five\",\"followed\",\"following\",\"follows\",\"for\",\"forever\",\"former\",\"formerly\",\"forth\",\"forward\",\"found\",\"four\",\"from\",\"further\",\"furthermore\",\"get\",\"gets\",\"getting\",\"given\",\"gives\",\"go\",\"goes\",\"going\",\"gone\",\"got\",\"gotten\",\"greetings\",\"had\",\"hadn't\",\"half\",\"happens\",\"hardly\",\"has\",\"hasn't\",\"have\",\"haven't\",\"having\",\"he\",\"he'd\",\"he'll\",\"hello\",\"help\",\"hence\",\"her\",\"here\",\"hereafter\",\"hereby\",\"herein\",\"here's\",\"hereupon\",\"hers\",\"herself\",\"he's\",\"hi\",\"him\",\"himself\",\"his\",\"hither\",\"hopefully\",\"how\",\"howbeit\",\"however\",\"hundred\",\"i'd\",\"ie\",\"if\",\"ignored\",\"i'll\",\"i'm\",\"immediate\",\"in\",\"inasmuch\",\"inc\",\"inc.\",\"indeed\",\"indicate\",\"indicated\",\"indicates\",\"inner\",\"inside\",\"insofar\",\"instead\",\"into\",\"inward\",\"is\",\"isn't\",\"it\",\"it'd\",\"it'll\",\"its\",\"it's\",\"itself\",\"i've\",\"just\",\"k\",\"keep\",\"keeps\",\"kept\",\"know\",\"known\",\"knows\",\"last\",\"lately\",\"later\",\"latter\",\"latterly\",\"least\",\"less\",\"lest\",\"let\",\"let's\",\"like\",\"liked\",\"likely\",\"likewise\",\"little\",\"look\",\"looking\",\"looks\",\"low\",\"lower\",\"ltd\",\"made\",\"mainly\",\"make\",\"makes\",\"many\",\"may\",\"maybe\",\"mayn't\",\"me\",\"mean\",\"meantime\",\"meanwhile\",\"merely\",\"might\",\"mightn't\",\"mine\",\"minus\",\"miss\",\"more\",\"moreover\",\"most\",\"mostly\",\"mr\",\"mrs\",\"much\",\"must\",\"mustn't\",\"my\",\"myself\",\"name\",\"namely\",\"nd\",\"near\",\"nearly\",\"necessary\",\"need\",\"needn't\",\"needs\",\"neither\",\"never\",\"neverf\",\"neverless\",\"nevertheless\",\"new\",\"next\",\"nine\",\"ninety\",\"no\",\"nobody\",\"non\",\"none\",\"nonetheless\",\"noone\",\"noone\",\"nor\",\"normally\",\"not\",\"nothing\",\"notwithstanding\",\"novel\",\"now\",\"nowhere\",\"obviously\",\"of\",\"off\",\"often\",\"oh\",\"ok\",\"okay\",\"old\",\"on\",\"once\",\"one\",\"ones\",\"one's\",\"only\",\"onto\",\"opposite\",\"or\",\"other\",\"others\",\"otherwise\",\"ought\",\"oughtn't\",\"our\",\"ours\",\"ourselves\",\"out\",\"outside\",\"over\",\"overall\",\"own\",\"particular\",\"particularly\",\"past\",\"per\",\"perhaps\",\"placed\",\"please\",\"plus\",\"possible\",\"presumably\",\"probably\",\"provided\",\"provides\",\"que\",\"quite\",\"qv\",\"rather\",\"rd\",\"re\",\"really\",\"reasonably\",\"recent\",\"recently\",\"regarding\",\"regardless\",\"regards\",\"relatively\",\"respectively\",\"right\",\"round\",\"said\",\"same\",\"saw\",\"say\",\"saying\",\"says\",\"second\",\"secondly\",\"see\",\"seeing\",\"seem\",\"seemed\",\"seeming\",\"seems\",\"seen\",\"self\",\"selves\",\"sensible\",\"sent\",\"serious\",\"seriously\",\"seven\",\"several\",\"shall\",\"shan't\",\"she\",\"she'd\",\"she'll\",\"she's\",\"should\",\"shouldn't\",\"since\",\"six\",\"so\",\"some\",\"somebody\",\"someday\",\"somehow\",\"someone\",\"something\",\"sometime\",\"sometimes\",\"somewhat\",\"somewhere\",\"soon\",\"sorry\",\"specified\",\"specify\",\"specifying\",\"still\",\"sub\",\"such\",\"sup\",\"sure\",\"take\",\"taken\",\"taking\",\"tell\",\"tends\",\"th\",\"than\",\"thank\",\"thanks\",\"thanx\",\"that\",\"that'll\",\"thats\",\"that's\",\"that've\",\"the\",\"their\",\"theirs\",\"them\",\"themselves\",\"then\",\"thence\",\"there\",\"thereafter\",\"thereby\",\"there'd\",\"therefore\",\"therein\",\"there'll\",\"there're\",\"theres\",\"there's\",\"thereupon\",\"there've\",\"these\",\"they\",\"they'd\",\"they'll\",\"they're\",\"they've\",\"thing\",\"things\",\"think\",\"third\",\"thirty\",\"this\",\"thorough\",\"thoroughly\",\"those\",\"though\",\"three\",\"through\",\"throughout\",\"thru\",\"thus\",\"till\",\"to\",\"together\",\"too\",\"took\",\"toward\",\"towards\",\"tried\",\"tries\",\"truly\",\"try\",\"trying\",\"t's\",\"twice\",\"two\",\"un\",\"under\",\"underneath\",\"undoing\",\"unfortunately\",\"unless\",\"unlike\",\"unlikely\",\"until\",\"unto\",\"up\",\"upon\",\"upwards\",\"us\",\"use\",\"used\",\"useful\",\"uses\",\"using\",\"usually\",\"v\",\"value\",\"various\",\"versus\",\"very\",\"via\",\"viz\",\"vs\",\"want\",\"wants\",\"was\",\"wasn't\",\"way\",\"we\",\"we'd\",\"welcome\",\"well\",\"we'll\",\"went\",\"were\",\"we're\",\"weren't\",\"we've\",\"what\",\"whatever\",\"what'll\",\"what's\",\"what've\",\"when\",\"whence\",\"whenever\",\"where\",\"whereafter\",\"whereas\",\"whereby\",\"wherein\",\"where's\",\"whereupon\",\"wherever\",\"whether\",\"which\",\"whichever\",\"while\",\"whilst\",\"whither\",\"who\",\"who'd\",\"whoever\",\"whole\",\"who'll\",\"whom\",\"whomever\",\"who's\",\"whose\",\"why\",\"will\",\"willing\",\"wish\",\"with\",\"within\",\"without\",\"wonder\",\"won't\",\"would\",\"wouldn't\",\"yes\",\"yet\",\"you\",\"you'd\",\"you'll\",\"your\",\"you're\",\"yours\",\"yourself\",\"yourselves\",\"you've\",\"zero\",\"a\",\"how's\",\"i\",\"when's\",\"why's\",\"b\",\"c\",\"d\",\"e\",\"f\",\"g\",\"h\",\"j\",\"l\",\"m\",\"n\",\"o\",\"p\",\"q\",\"r\",\"s\",\"t\",\"u\",\"uucp\",\"w\",\"x\",\"y\",\"z\",\"I\",\"www\",\"amount\",\"bill\",\"bottom\",\"call\",\"computer\",\"con\",\"couldnt\",\"cry\",\"de\",\"describe\",\"detail\",\"due\",\"eleven\",\"empty\",\"fifteen\",\"fifty\",\"fill\",\"find\",\"fire\",\"forty\",\"front\",\"full\",\"give\",\"hasnt\",\"herse\",\"himse\",\"interest\",\"itse”\",\"mill\",\"move\",\"myse”\",\"part\",\"put\",\"show\",\"side\",\"sincere\",\"sixty\",\"system\",\"ten\",\"thick\",\"thin\",\"top\",\"twelve\",\"twenty\",\"abst\",\"accordance\",\"act\",\"added\",\"adopted\",\"affected\",\"affecting\",\"affects\",\"ah\",\"announce\",\"anymore\",\"apparently\",\"approximately\",\"aren\",\"arent\",\"arise\",\"auth\",\"beginning\",\"beginnings\",\"begins\",\"biol\",\"briefly\",\"ca\",\"date\",\"ed\",\"effect\",\"etal\",\"ff\",\"fix\",\"gave\",\"giving\",\"heres\",\"hes\",\"hid\",\"home\",\"id\",\"im\",\"immediately\",\"importance\",\"important\",\"index\",\"information\",\"invention\",\"itd\",\"keys\",\"kg\",\"km\",\"largely\",\"lets\",\"line\",\"'ll\",\"means\",\"mg\",\"million\",\"ml\",\"mug\",\"na\",\"nay\",\"necessarily\",\"nos\",\"noted\",\"obtain\",\"obtained\",\"omitted\",\"ord\",\"owing\",\"page\",\"pages\",\"poorly\",\"possibly\",\"potentially\",\"pp\",\"predominantly\",\"present\",\"previously\",\"primarily\",\"promptly\",\"proud\",\"quickly\",\"ran\",\"readily\",\"ref\",\"refs\",\"related\",\"research\",\"resulted\",\"resulting\",\"results\",\"run\",\"sec\",\"section\",\"shed\",\"shes\",\"showed\",\"shown\",\"showns\",\"shows\",\"significant\",\"significantly\",\"similar\",\"similarly\",\"slightly\",\"somethan\",\"specifically\",\"state\",\"states\",\"stop\",\"strongly\",\"substantially\",\"successfully\",\"sufficiently\",\"suggest\",\"thered\",\"thereof\",\"therere\",\"thereto\",\"theyd\",\"theyre\",\"thou\",\"thoughh\",\"thousand\",\"throug\",\"til\",\"tip\",\"ts\",\"ups\",\"usefully\",\"usefulness\",\"'ve\",\"vol\",\"vols\",\"wed\",\"whats\",\"wheres\",\"whim\",\"whod\",\"whos\",\"widely\",\"words\",\"world\",\"youd\",\"youre\"]\n",
    "\n",
    "postsWithExplodedTitleWords = (\n",
    "    posts \\\n",
    "    .withColumn('replacedTitle',regexp_replace(col(\"title\"), \"[(0-9)]+\", \" \"))\n",
    "    .withColumn('replacedTitle',regexp_replace(col(\"replacedTitle\"), \"[^\\w]+\", \" \"))\n",
    "    .withColumn('splitTitle', split('replacedTitle', ' ')) \\\n",
    "    .select(\n",
    "        col('title').alias('title'),\n",
    "        col('replacedTitle').alias('replacedTitle'),\n",
    "        col('splitTitle').alias('splitTitle')\n",
    "    ) \\\n",
    ")\n",
    "\n",
    "postsWithExplodedTitleWords.withColumn('word', explode('splitTitle')) \\\n",
    "    .groupBy('word') \\\n",
    "    .agg(count('*').alias('wordCount')) \\\n",
    "    .orderBy(desc('wordCount')) \\\n",
    "    .withColumn('word', lower(col('word'))) \\\n",
    "    .filter(col('word').isin(stopWordsList) == False) \\\n",
    "    .filter(col('word') != '') \\\n",
    "    .show(10)"
   ]
  },
  {
   "cell_type": "code",
   "execution_count": 108,
   "id": "72a1edbe-5301-42b1-832b-40a571eb9cdd",
   "metadata": {
    "execution": {
     "iopub.execute_input": "2022-05-30T22:23:48.652871Z",
     "iopub.status.busy": "2022-05-30T22:23:48.652542Z",
     "iopub.status.idle": "2022-05-30T22:23:48.966540Z",
     "shell.execute_reply": "2022-05-30T22:23:48.965657Z",
     "shell.execute_reply.started": "2022-05-30T22:23:48.652837Z"
    },
    "tags": []
   },
   "outputs": [
    {
     "data": {
      "application/vnd.jupyter.widget-view+json": {
       "model_id": "73394678bbfd4c2b9b9c675401756dd9",
       "version_major": 2,
       "version_minor": 0
      },
      "text/plain": [
       "VBox()"
      ]
     },
     "metadata": {},
     "output_type": "display_data"
    },
    {
     "data": {
      "application/vnd.jupyter.widget-view+json": {
       "model_id": "",
       "version_major": 2,
       "version_minor": 0
      },
      "text/plain": [
       "FloatProgress(value=0.0, bar_style='info', description='Progress:', layout=Layout(height='25px', width='50%'),…"
      ]
     },
     "metadata": {},
     "output_type": "display_data"
    }
   ],
   "source": [
    "# PART I"
   ]
  },
  {
   "cell_type": "code",
   "execution_count": 113,
   "id": "0426a1b8-5d3e-4f3d-a1b3-7b2905f5dcef",
   "metadata": {
    "execution": {
     "iopub.execute_input": "2022-05-30T22:30:16.168092Z",
     "iopub.status.busy": "2022-05-30T22:30:16.167768Z",
     "iopub.status.idle": "2022-05-30T22:30:17.560237Z",
     "shell.execute_reply": "2022-05-30T22:30:17.559430Z",
     "shell.execute_reply.started": "2022-05-30T22:30:16.168059Z"
    },
    "tags": []
   },
   "outputs": [
    {
     "data": {
      "application/vnd.jupyter.widget-view+json": {
       "model_id": "6b42dd50e0b04d7e9173a190a71cd1ae",
       "version_major": 2,
       "version_minor": 0
      },
      "text/plain": [
       "VBox()"
      ]
     },
     "metadata": {},
     "output_type": "display_data"
    },
    {
     "data": {
      "application/vnd.jupyter.widget-view+json": {
       "model_id": "",
       "version_major": 2,
       "version_minor": 0
      },
      "text/plain": [
       "FloatProgress(value=0.0, bar_style='info', description='Progress:', layout=Layout(height='25px', width='50%'),…"
      ]
     },
     "metadata": {},
     "output_type": "display_data"
    },
    {
     "name": "stdout",
     "output_type": "stream",
     "text": [
      "0.5313570161923312"
     ]
    }
   ],
   "source": [
    "usersThatHaveAnyPosts = posts.filter(col('ownerUserId').isNotNull()).select('ownerUserId').distinct().count()\n",
    "allUsers = users.count()\n",
    "(allUsers-usersThatHaveAnyPosts)/allUsers"
   ]
  },
  {
   "cell_type": "code",
   "execution_count": 121,
   "id": "f607ea5d-7231-462f-988f-0d13e24c7a61",
   "metadata": {
    "execution": {
     "iopub.execute_input": "2022-05-30T22:37:07.595780Z",
     "iopub.status.busy": "2022-05-30T22:37:07.595381Z",
     "iopub.status.idle": "2022-05-30T22:37:10.143101Z",
     "shell.execute_reply": "2022-05-30T22:37:10.142305Z",
     "shell.execute_reply.started": "2022-05-30T22:37:07.595739Z"
    },
    "tags": []
   },
   "outputs": [
    {
     "data": {
      "application/vnd.jupyter.widget-view+json": {
       "model_id": "24edb7e71d024de988cb3ff758387eef",
       "version_major": 2,
       "version_minor": 0
      },
      "text/plain": [
       "VBox()"
      ]
     },
     "metadata": {},
     "output_type": "display_data"
    },
    {
     "data": {
      "application/vnd.jupyter.widget-view+json": {
       "model_id": "",
       "version_major": 2,
       "version_minor": 0
      },
      "text/plain": [
       "FloatProgress(value=0.0, bar_style='info', description='Progress:', layout=Layout(height='25px', width='50%'),…"
      ]
     },
     "metadata": {},
     "output_type": "display_data"
    },
    {
     "name": "stdout",
     "output_type": "stream",
     "text": [
      "+-----------------------------------------+\n",
      "|((avg(timeToAcceptedAnswer) / 3600) / 24)|\n",
      "+-----------------------------------------+\n",
      "|                        29.04407220317314|\n",
      "+-----------------------------------------+"
     ]
    }
   ],
   "source": [
    "questions.alias('questions') \\\n",
    "    .join(answers.alias('answers'), col('questions.acceptedAnswerId') == col('answers.id')) \\\n",
    "    .select(\n",
    "        col('questions.id'),\n",
    "        col('questions.creationDate').alias('questionDate'),\n",
    "        col('answers.creationDate').alias('acceptedAnswerDate')\n",
    "    ) \\\n",
    "    .withColumn('timeToAcceptedAnswer', unix_timestamp('acceptedAnswerDate') - unix_timestamp('questionDate')) \\\n",
    "    .agg(avg(col(\"timeToAcceptedAnswer\"))/3600/24).show()"
   ]
  },
  {
   "cell_type": "code",
   "execution_count": null,
   "id": "35ce0c16-6ad9-4e30-845b-104292a2da14",
   "metadata": {},
   "outputs": [],
   "source": []
  }
 ],
 "metadata": {
  "kernelspec": {
   "display_name": "PySpark",
   "language": "",
   "name": "pysparkkernel"
  },
  "language_info": {
   "codemirror_mode": {
    "name": "python",
    "version": 2
   },
   "mimetype": "text/x-python",
   "name": "pyspark",
   "pygments_lexer": "python2"
  }
 },
 "nbformat": 4,
 "nbformat_minor": 5
}
