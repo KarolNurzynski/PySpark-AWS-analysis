{
 "cells": [
  {
   "cell_type": "code",
   "execution_count": 1,
   "id": "85c42252-833e-450b-aec9-004b2a89cc44",
   "metadata": {
    "execution": {
     "iopub.execute_input": "2022-02-03T21:37:51.179653Z",
     "iopub.status.busy": "2022-02-03T21:37:51.179398Z",
     "iopub.status.idle": "2022-02-03T21:37:52.033599Z",
     "shell.execute_reply": "2022-02-03T21:37:52.028519Z",
     "shell.execute_reply.started": "2022-02-03T21:37:51.179619Z"
    }
   },
   "outputs": [
    {
     "data": {
      "text/html": [
       "Current session configs: <tt>{'conf': {'spark.jars.packages': 'com.databricks:spark-xml_2.12:0.14.0', 'spark.pyspark.python': 'python3', 'spark.pyspark.virtualenv.enabled': 'true', 'spark.pyspark.virtualenv.type': 'native', 'spark.pyspark.virtualenv.bin.path': '/usr/bin/virtualenv'}, 'kind': 'pyspark'}</tt><br>"
      ],
      "text/plain": [
       "<IPython.core.display.HTML object>"
      ]
     },
     "metadata": {},
     "output_type": "display_data"
    },
    {
     "data": {
      "text/html": [
       "No active sessions."
      ],
      "text/plain": [
       "<IPython.core.display.HTML object>"
      ]
     },
     "metadata": {},
     "output_type": "display_data"
    }
   ],
   "source": [
    "%%configure -f\n",
    "{\n",
    "    \"conf\": {\n",
    "        \"spark.jars.packages\": \"com.databricks:spark-xml_2.12:0.14.0\",\n",
    "        \"spark.pyspark.python\": \"python3\",\n",
    "        \"spark.pyspark.virtualenv.enabled\": \"true\",\n",
    "        \"spark.pyspark.virtualenv.type\":\"native\",\n",
    "        \"spark.pyspark.virtualenv.bin.path\":\"/usr/bin/virtualenv\"\n",
    "    }\n",
    "}"
   ]
  },
  {
   "cell_type": "code",
   "execution_count": 2,
   "id": "53a7c011-f60e-4418-a29a-31e9296d4305",
   "metadata": {
    "execution": {
     "iopub.execute_input": "2022-02-03T22:38:25.941046Z",
     "iopub.status.busy": "2022-02-03T22:38:25.940800Z",
     "iopub.status.idle": "2022-02-03T22:38:26.803210Z",
     "shell.execute_reply": "2022-02-03T22:38:26.220920Z",
     "shell.execute_reply.started": "2022-02-03T22:38:25.941018Z"
    },
    "tags": []
   },
   "outputs": [
    {
     "data": {
      "application/vnd.jupyter.widget-view+json": {
       "model_id": "cdd194a9c9814758b2dba41d39ae568a",
       "version_major": 2,
       "version_minor": 0
      },
      "text/plain": [
       "VBox()"
      ]
     },
     "metadata": {},
     "output_type": "display_data"
    },
    {
     "name": "stdout",
     "output_type": "stream",
     "text": [
      "Starting Spark application\n"
     ]
    },
    {
     "data": {
      "text/html": [
       "<table>\n",
       "<tr><th>ID</th><th>YARN Application ID</th><th>Kind</th><th>State</th><th>Spark UI</th><th>Driver log</th><th>Current session?</th></tr><tr><td>0</td><td>application_1644004640939_0001</td><td>pyspark</td><td>idle</td><td><a target=\"_blank\" href=\"http://ip-172-31-82-96.ec2.internal:20888/proxy/application_1644004640939_0001/\">Link</a></td><td><a target=\"_blank\" href=\"http://ip-172-31-86-101.ec2.internal:8042/node/containerlogs/container_1644004640939_0001_01_000001/livy\">Link</a></td><td>✔</td></tr></table>"
      ],
      "text/plain": [
       "<IPython.core.display.HTML object>"
      ]
     },
     "metadata": {},
     "output_type": "display_data"
    },
    {
     "data": {
      "application/vnd.jupyter.widget-view+json": {
       "model_id": "",
       "version_major": 2,
       "version_minor": 0
      },
      "text/plain": [
       "FloatProgress(value=0.0, bar_style='info', description='Progress:', layout=Layout(height='25px', width='50%'),…"
      ]
     },
     "metadata": {},
     "output_type": "display_data"
    },
    {
     "name": "stdout",
     "output_type": "stream",
     "text": [
      "SparkSession available as 'spark'.\n"
     ]
    },
    {
     "data": {
      "application/vnd.jupyter.widget-view+json": {
       "model_id": "",
       "version_major": 2,
       "version_minor": 0
      },
      "text/plain": [
       "FloatProgress(value=0.0, bar_style='info', description='Progress:', layout=Layout(height='25px', width='50%'),…"
      ]
     },
     "metadata": {},
     "output_type": "display_data"
    },
    {
     "name": "stdout",
     "output_type": "stream",
     "text": [
      "Collecting pandas==1.1.0\n",
      "  Downloading https://files.pythonhosted.org/packages/94/b1/f77f49cc7cc538b247f30c2ae7e3a50f29e44f0b1af32ff4869d7de3c762/pandas-1.1.0-cp37-cp37m-manylinux1_x86_64.whl (10.5MB)\n",
      "Requirement already satisfied: numpy>=1.15.4 in /usr/local/lib64/python3.7/site-packages (from pandas==1.1.0)\n",
      "Requirement already satisfied: pytz>=2017.2 in /usr/local/lib/python3.7/site-packages (from pandas==1.1.0)\n",
      "Collecting python-dateutil>=2.7.3 (from pandas==1.1.0)\n",
      "  Downloading https://files.pythonhosted.org/packages/36/7a/87837f39d0296e723bb9b62bbb257d0355c7f6128853c78955f57342a56d/python_dateutil-2.8.2-py2.py3-none-any.whl (247kB)\n",
      "Requirement already satisfied: six>=1.5 in /usr/local/lib/python3.7/site-packages (from python-dateutil>=2.7.3->pandas==1.1.0)\n",
      "Installing collected packages: python-dateutil, pandas\n",
      "Successfully installed pandas-1.1.0 python-dateutil-2.8.2\n",
      "\n",
      "Collecting matplotlib==3.0.0\n",
      "  Downloading https://files.pythonhosted.org/packages/1e/92/923b86132669ce39b7b0096a402cc78a5b70f22423f8b59bbd7bb7ff9403/matplotlib-3.0.0-cp37-cp37m-manylinux1_x86_64.whl (12.8MB)\n",
      "Requirement already satisfied: numpy>=1.10.0 in /usr/local/lib64/python3.7/site-packages (from matplotlib==3.0.0)\n",
      "Requirement already satisfied: python-dateutil>=2.1 in /mnt/tmp/1644004986049-0/lib/python3.7/site-packages (from matplotlib==3.0.0)\n",
      "Collecting pyparsing!=2.0.4,!=2.1.2,!=2.1.6,>=2.0.1 (from matplotlib==3.0.0)\n",
      "  Downloading https://files.pythonhosted.org/packages/80/c1/23fd82ad3121656b585351aba6c19761926bb0db2ebed9e4ff09a43a3fcc/pyparsing-3.0.7-py3-none-any.whl (98kB)\n",
      "Collecting cycler>=0.10 (from matplotlib==3.0.0)\n",
      "  Downloading https://files.pythonhosted.org/packages/5c/f9/695d6bedebd747e5eb0fe8fad57b72fdf25411273a39791cde838d5a8f51/cycler-0.11.0-py3-none-any.whl\n",
      "Collecting kiwisolver>=1.0.1 (from matplotlib==3.0.0)\n",
      "  Downloading https://files.pythonhosted.org/packages/09/6b/6e567cb2e86d4e5939a9233f8734e26021b6a9c1bc4b1edccba236a84cc2/kiwisolver-1.3.2-cp37-cp37m-manylinux_2_5_x86_64.manylinux1_x86_64.whl (1.1MB)\n",
      "Requirement already satisfied: six>=1.5 in /usr/local/lib/python3.7/site-packages (from python-dateutil>=2.1->matplotlib==3.0.0)\n",
      "Installing collected packages: pyparsing, cycler, kiwisolver, matplotlib\n",
      "Successfully installed cycler-0.11.0 kiwisolver-1.3.2 matplotlib-3.0.0 pyparsing-3.0.7"
     ]
    }
   ],
   "source": [
    "sc.install_pypi_package(\"pandas==1.1.0\")\n",
    "sc.install_pypi_package(\"matplotlib==3.0.0\")\n",
    "from pyspark.sql.functions import ceil, col, count, desc, unix_timestamp, window\n",
    "import matplotlib.pyplot as plot"
   ]
  },
  {
   "cell_type": "code",
   "execution_count": 3,
   "id": "23097b98-4dce-485b-aa07-d75146fae428",
   "metadata": {
    "execution": {
     "iopub.execute_input": "2022-02-03T22:07:15.809925Z",
     "iopub.status.busy": "2022-02-03T22:07:15.809672Z",
     "iopub.status.idle": "2022-02-03T22:07:16.033223Z",
     "shell.execute_reply": "2022-02-03T22:07:16.032419Z",
     "shell.execute_reply.started": "2022-02-03T22:07:15.809896Z"
    },
    "tags": []
   },
   "outputs": [
    {
     "data": {
      "application/vnd.jupyter.widget-view+json": {
       "model_id": "ef7690b52f8c4839a1d5d50545d9731b",
       "version_major": 2,
       "version_minor": 0
      },
      "text/plain": [
       "VBox()"
      ]
     },
     "metadata": {},
     "output_type": "display_data"
    },
    {
     "data": {
      "application/vnd.jupyter.widget-view+json": {
       "model_id": "",
       "version_major": 2,
       "version_minor": 0
      },
      "text/plain": [
       "FloatProgress(value=0.0, bar_style='info', description='Progress:', layout=Layout(height='25px', width='50%'),…"
      ]
     },
     "metadata": {},
     "output_type": "display_data"
    }
   ],
   "source": [
    "postsXmlPath = 's3://kn-praca-dyplomowa-sports/superuser_data/Posts.xml'\n",
    "postsParquetPath = 's3://kn-praca-dyplomowa-sports/superuser_data/out/Posts'\n",
    "postHistoryXmlPath = 's3://kn-praca-dyplomowa-sports/superuser_data/PostHistory.xml'\n",
    "postHistoryParquetPath = 's3://kn-praca-dyplomowa-sports/superuser_data/out/PostHistory'\n",
    "commentsXmlPath = 's3://kn-praca-dyplomowa-sports/superuser_data/Comments.xml'\n",
    "commentsParquetPath = 's3://kn-praca-dyplomowa-sports/superuser_data/out/Comments'\n",
    "usersXmlPath = 's3://kn-praca-dyplomowa-sports/superuser_data/Users.xml'\n",
    "usersParquetPath = 's3://kn-praca-dyplomowa-sports/superuser_data/out/Users'"
   ]
  },
  {
   "cell_type": "code",
   "execution_count": 4,
   "id": "0515a46d-ee36-4e21-8c57-d7139532b5df",
   "metadata": {
    "execution": {
     "iopub.execute_input": "2022-02-03T22:14:52.552947Z",
     "iopub.status.busy": "2022-02-03T22:14:52.552621Z",
     "iopub.status.idle": "2022-02-03T22:15:16.796043Z",
     "shell.execute_reply": "2022-02-03T22:15:16.795308Z",
     "shell.execute_reply.started": "2022-02-03T22:14:52.552915Z"
    },
    "tags": []
   },
   "outputs": [
    {
     "data": {
      "application/vnd.jupyter.widget-view+json": {
       "model_id": "3c1a8d348adb4b449c4c02de3500d830",
       "version_major": 2,
       "version_minor": 0
      },
      "text/plain": [
       "VBox()"
      ]
     },
     "metadata": {},
     "output_type": "display_data"
    },
    {
     "data": {
      "application/vnd.jupyter.widget-view+json": {
       "model_id": "",
       "version_major": 2,
       "version_minor": 0
      },
      "text/plain": [
       "FloatProgress(value=0.0, bar_style='info', description='Progress:', layout=Layout(height='25px', width='50%'),…"
      ]
     },
     "metadata": {},
     "output_type": "display_data"
    }
   ],
   "source": [
    "# Map from xml to parquet in S3 with Spark\n",
    "\n",
    "(\n",
    "spark\n",
    ".read\n",
    ".format('xml')\n",
    ".option(\"rowTag\", \"row\")\n",
    ".load(postsXmlPath)\n",
    ".select(\n",
    "    col('_Id').alias('id'),\n",
    "    col('_PostTypeId').alias('postTypeId'),\n",
    "    col('_AcceptedAnswerId').alias('acceptedAnswerId'),\n",
    "    (col('_CreationDate').cast('timestamp')).alias('creationDate'),\n",
    "    col('_OwnerUserId').alias('ownerUserId'),\n",
    "    col('_ParentId').alias('parentId'),\n",
    "    col('_Score').alias('score'),\n",
    "    col('_ViewCount').alias('viewCount')\n",
    ")\n",
    ".write\n",
    ".mode('overwrite')\n",
    ".format('parquet')\n",
    ".option('path', postsParquetPath)\n",
    ".save()\n",
    ")"
   ]
  },
  {
   "cell_type": "code",
   "execution_count": 5,
   "id": "21071182-eea3-4d68-9760-7dc87fa449ce",
   "metadata": {
    "execution": {
     "iopub.execute_input": "2022-02-03T22:16:08.237196Z",
     "iopub.status.busy": "2022-02-03T22:16:08.236655Z",
     "iopub.status.idle": "2022-02-03T22:16:09.793428Z",
     "shell.execute_reply": "2022-02-03T22:16:09.792505Z",
     "shell.execute_reply.started": "2022-02-03T22:16:08.237160Z"
    },
    "tags": []
   },
   "outputs": [
    {
     "data": {
      "application/vnd.jupyter.widget-view+json": {
       "model_id": "827156c8fc414ff08aa46471590db8c5",
       "version_major": 2,
       "version_minor": 0
      },
      "text/plain": [
       "VBox()"
      ]
     },
     "metadata": {},
     "output_type": "display_data"
    },
    {
     "data": {
      "application/vnd.jupyter.widget-view+json": {
       "model_id": "",
       "version_major": 2,
       "version_minor": 0
      },
      "text/plain": [
       "FloatProgress(value=0.0, bar_style='info', description='Progress:', layout=Layout(height='25px', width='50%'),…"
      ]
     },
     "metadata": {},
     "output_type": "display_data"
    },
    {
     "name": "stdout",
     "output_type": "stream",
     "text": [
      "+-------+------------------+------------------+-----------------+-----------------+-----------------+-----------------+------------------+\n",
      "|summary|                id|        postTypeId| acceptedAnswerId|      ownerUserId|         parentId|            score|         viewCount|\n",
      "+-------+------------------+------------------+-----------------+-----------------+-----------------+-----------------+------------------+\n",
      "|  count|           1159934|           1159934|           192647|          1130323|           682102|          1159934|            470283|\n",
      "|   mean| 818774.4867690748|1.6108951026523923|747775.3927182879|319091.3533591725|695777.3822038346|2.781882417447889| 5775.582532219961|\n",
      "| stddev|491414.04362879833|0.5447973665771906|480786.0776756186|353765.7197700805|480105.0488046648|13.98879720518215|27673.666872868638|\n",
      "|    min|                 1|                 1|               42|               -1|                1|              -69|                 2|\n",
      "|    max|           1691314|                 8|          1691286|          1646794|          1691313|             2761|           3299196|\n",
      "+-------+------------------+------------------+-----------------+-----------------+-----------------+-----------------+------------------+"
     ]
    }
   ],
   "source": [
    "posts = spark.read.parquet(postsParquetPath).select(\n",
    "    'id',\n",
    "    'postTypeId',\n",
    "    'acceptedAnswerId',\n",
    "    'creationDate',\n",
    "    'ownerUserId',\n",
    "    'parentId',\n",
    "    'score',\n",
    "    'viewCount',\n",
    ").cache()\n",
    "\n",
    "posts.describe().show()"
   ]
  },
  {
   "cell_type": "code",
   "execution_count": 6,
   "id": "271e10f9-dc47-4590-b8f8-e2e89f515725",
   "metadata": {
    "execution": {
     "iopub.execute_input": "2022-02-03T22:31:00.007216Z",
     "iopub.status.busy": "2022-02-03T22:31:00.006807Z",
     "iopub.status.idle": "2022-02-03T22:31:01.133172Z",
     "shell.execute_reply": "2022-02-03T22:31:01.129827Z",
     "shell.execute_reply.started": "2022-02-03T22:31:00.007181Z"
    },
    "tags": []
   },
   "outputs": [
    {
     "data": {
      "application/vnd.jupyter.widget-view+json": {
       "model_id": "544f704e6e6643a29cb525e3931cebf7",
       "version_major": 2,
       "version_minor": 0
      },
      "text/plain": [
       "VBox()"
      ]
     },
     "metadata": {},
     "output_type": "display_data"
    },
    {
     "data": {
      "application/vnd.jupyter.widget-view+json": {
       "model_id": "",
       "version_major": 2,
       "version_minor": 0
      },
      "text/plain": [
       "FloatProgress(value=0.0, bar_style='info', description='Progress:', layout=Layout(height='25px', width='50%'),…"
      ]
     },
     "metadata": {},
     "output_type": "display_data"
    },
    {
     "name": "stdout",
     "output_type": "stream",
     "text": [
      "<matplotlib.axes._subplots.AxesSubplot object at 0x7f9eb87c3190>"
     ]
    }
   ],
   "source": [
    "posts.groupBy('postTypeId').agg(count('*').alias('count')).orderBy(desc('count')).limit(10).toPandas().plot(\n",
    "    title='Number of post per post type',\n",
    "    x='postTypeId',\n",
    "    xlabel='post type',\n",
    "    y='count',\n",
    "    ylabel='number of posts',\n",
    "    kind='bar',\n",
    "    legend=False\n",
    ")"
   ]
  },
  {
   "cell_type": "code",
   "execution_count": 7,
   "id": "f979449c-e9c5-4fec-9d01-cece82e2fbd4",
   "metadata": {
    "execution": {
     "iopub.execute_input": "2022-02-03T22:31:02.962103Z",
     "iopub.status.busy": "2022-02-03T22:31:02.961828Z",
     "iopub.status.idle": "2022-02-03T22:31:03.344202Z",
     "shell.execute_reply": "2022-02-03T22:31:03.337210Z",
     "shell.execute_reply.started": "2022-02-03T22:31:02.962075Z"
    },
    "tags": []
   },
   "outputs": [
    {
     "data": {
      "application/vnd.jupyter.widget-view+json": {
       "model_id": "",
       "version_major": 2,
       "version_minor": 0
      },
      "text/plain": [
       "FloatProgress(value=0.0, bar_style='info', description='Progress:', layout=Layout(height='25px', width='50%'),…"
      ]
     },
     "metadata": {},
     "output_type": "display_data"
    },
    {
     "data": {
      "image/png": "[encoded data removed]",
      "text/plain": [
       "<IPython.core.display.Image object>"
      ]
     },
     "metadata": {},
     "output_type": "display_data"
    }
   ],
   "source": [
    "%matplot plot"
   ]
  },
  {
   "cell_type": "code",
   "execution_count": 8,
   "id": "20acb984-ae62-476f-a2c1-d3e817499267",
   "metadata": {
    "execution": {
     "iopub.execute_input": "2022-02-03T22:29:45.909349Z",
     "iopub.status.busy": "2022-02-03T22:29:45.909077Z",
     "iopub.status.idle": "2022-02-03T22:29:51.584610Z",
     "shell.execute_reply": "2022-02-03T22:29:51.583330Z",
     "shell.execute_reply.started": "2022-02-03T22:29:45.909320Z"
    }
   },
   "outputs": [
    {
     "data": {
      "application/vnd.jupyter.widget-view+json": {
       "model_id": "0c41feaf204449acbb93d9feb452e921",
       "version_major": 2,
       "version_minor": 0
      },
      "text/plain": [
       "VBox()"
      ]
     },
     "metadata": {},
     "output_type": "display_data"
    },
    {
     "data": {
      "application/vnd.jupyter.widget-view+json": {
       "model_id": "",
       "version_major": 2,
       "version_minor": 0
      },
      "text/plain": [
       "FloatProgress(value=0.0, bar_style='info', description='Progress:', layout=Layout(height='25px', width='50%'),…"
      ]
     },
     "metadata": {},
     "output_type": "display_data"
    }
   ],
   "source": [
    "(\n",
    "spark\n",
    ".read\n",
    ".format('xml')\n",
    ".option(\"rowTag\", \"row\")\n",
    ".load(postHistoryXmlPath)\n",
    ".select(\n",
    "    col('_Id').alias('id'),\n",
    "    col('_PostHistoryTypeId').alias('postHistoryTypeId'),\n",
    "    col('_PostId').alias('postId'),\n",
    "    col('_UserDisplayName').alias('userDisplayName'),\n",
    "    col('_UserId').alias('userId'),\n",
    "    (col('_CreationDate').cast('timestamp')).alias('creationDate')\n",
    ")\n",
    ".write\n",
    ".mode('overwrite')\n",
    ".format('parquet')\n",
    ".option('path', postHistoryParquetPath)\n",
    ".save()\n",
    ")"
   ]
  },
  {
   "cell_type": "code",
   "execution_count": 9,
   "id": "3b1a6443-da40-4535-a259-9ba8ca149f1b",
   "metadata": {
    "execution": {
     "iopub.execute_input": "2022-02-03T22:34:13.729726Z",
     "iopub.status.busy": "2022-02-03T22:34:13.729369Z",
     "iopub.status.idle": "2022-02-03T22:34:17.010151Z",
     "shell.execute_reply": "2022-02-03T22:34:17.009328Z",
     "shell.execute_reply.started": "2022-02-03T22:34:13.729696Z"
    },
    "tags": []
   },
   "outputs": [
    {
     "data": {
      "application/vnd.jupyter.widget-view+json": {
       "model_id": "1d1d3e1a53164eeeb323f2df1bcf05a8",
       "version_major": 2,
       "version_minor": 0
      },
      "text/plain": [
       "VBox()"
      ]
     },
     "metadata": {},
     "output_type": "display_data"
    },
    {
     "data": {
      "application/vnd.jupyter.widget-view+json": {
       "model_id": "",
       "version_major": 2,
       "version_minor": 0
      },
      "text/plain": [
       "FloatProgress(value=0.0, bar_style='info', description='Progress:', layout=Layout(height='25px', width='50%'),…"
      ]
     },
     "metadata": {},
     "output_type": "display_data"
    },
    {
     "name": "stdout",
     "output_type": "stream",
     "text": [
      "+-------+-----------------+-----------------+------------------+--------------------+------------------+\n",
      "|summary|               id|postHistoryTypeId|            postId|     userDisplayName|            userId|\n",
      "+-------+-----------------+-----------------+------------------+--------------------+------------------+\n",
      "|  count|          3309494|          3309494|           3309494|              102291|           3101151|\n",
      "|   mean|2908340.356300389|5.797867589426057| 816979.6769267446|            Infinity|296849.21729286964|\n",
      "| stddev|1913296.069003844|9.800562814224646|481733.34386547236|                 NaN| 350279.7427222432|\n",
      "|    min|                1|                1|                 1|                 ...|                -1|\n",
      "|    max|          6417901|               53|           1691315|              이광수|           1646794|\n",
      "+-------+-----------------+-----------------+------------------+--------------------+------------------+"
     ]
    }
   ],
   "source": [
    "postHistory = spark.read.parquet(postHistoryParquetPath).cache()\n",
    "\n",
    "postHistory.describe().show()"
   ]
  },
  {
   "cell_type": "code",
   "execution_count": 10,
   "id": "7063e94b-443f-4348-96df-9ee74a5ccf55",
   "metadata": {
    "execution": {
     "iopub.execute_input": "2022-02-03T22:31:52.906273Z",
     "iopub.status.busy": "2022-02-03T22:31:52.906013Z",
     "iopub.status.idle": "2022-02-03T22:31:54.008298Z",
     "shell.execute_reply": "2022-02-03T22:31:54.000213Z",
     "shell.execute_reply.started": "2022-02-03T22:31:52.906245Z"
    },
    "tags": []
   },
   "outputs": [
    {
     "data": {
      "application/vnd.jupyter.widget-view+json": {
       "model_id": "ee9e842bb8c84b1486800d49411aa6ac",
       "version_major": 2,
       "version_minor": 0
      },
      "text/plain": [
       "VBox()"
      ]
     },
     "metadata": {},
     "output_type": "display_data"
    },
    {
     "data": {
      "application/vnd.jupyter.widget-view+json": {
       "model_id": "",
       "version_major": 2,
       "version_minor": 0
      },
      "text/plain": [
       "FloatProgress(value=0.0, bar_style='info', description='Progress:', layout=Layout(height='25px', width='50%'),…"
      ]
     },
     "metadata": {},
     "output_type": "display_data"
    },
    {
     "name": "stdout",
     "output_type": "stream",
     "text": [
      "<matplotlib.axes._subplots.AxesSubplot object at 0x7f9ea2bd8190>"
     ]
    }
   ],
   "source": [
    "postHistory.groupBy('postHistoryTypeId').agg(count('*').alias('count')).orderBy(desc('count')).limit(10).toPandas().plot(\n",
    "    title='Number of post history entries per type',\n",
    "    x='postHistoryTypeId',\n",
    "    xlabel='post history type',\n",
    "    y='count',\n",
    "    ylabel='number of history entries',\n",
    "    kind='bar',\n",
    "    legend=False\n",
    ")"
   ]
  },
  {
   "cell_type": "code",
   "execution_count": 11,
   "id": "12ae258c-b211-4b5d-ac3a-fb19194ecf46",
   "metadata": {
    "execution": {
     "iopub.execute_input": "2022-02-03T22:32:02.673466Z",
     "iopub.status.busy": "2022-02-03T22:32:02.672928Z",
     "iopub.status.idle": "2022-02-03T22:32:03.138717Z",
     "shell.execute_reply": "2022-02-03T22:32:03.136952Z",
     "shell.execute_reply.started": "2022-02-03T22:32:02.673426Z"
    }
   },
   "outputs": [
    {
     "data": {
      "application/vnd.jupyter.widget-view+json": {
       "model_id": "",
       "version_major": 2,
       "version_minor": 0
      },
      "text/plain": [
       "FloatProgress(value=0.0, bar_style='info', description='Progress:', layout=Layout(height='25px', width='50%'),…"
      ]
     },
     "metadata": {},
     "output_type": "display_data"
    },
    {
     "data": {
      "image/png": "[encoded data removed]",
      "text/plain": [
       "<IPython.core.display.Image object>"
      ]
     },
     "metadata": {},
     "output_type": "display_data"
    }
   ],
   "source": [
    "%matplot plot"
   ]
  },
  {
   "cell_type": "code",
   "execution_count": 12,
   "id": "98f998ea-9294-4e01-8ddc-4389c0f721c0",
   "metadata": {
    "execution": {
     "iopub.execute_input": "2022-02-03T22:33:05.760372Z",
     "iopub.status.busy": "2022-02-03T22:33:05.760124Z",
     "iopub.status.idle": "2022-02-03T22:33:08.754834Z",
     "shell.execute_reply": "2022-02-03T22:33:08.754125Z",
     "shell.execute_reply.started": "2022-02-03T22:33:05.760344Z"
    }
   },
   "outputs": [
    {
     "data": {
      "application/vnd.jupyter.widget-view+json": {
       "model_id": "57527796317544f0ab9dd9ec5938a8f5",
       "version_major": 2,
       "version_minor": 0
      },
      "text/plain": [
       "VBox()"
      ]
     },
     "metadata": {},
     "output_type": "display_data"
    },
    {
     "data": {
      "application/vnd.jupyter.widget-view+json": {
       "model_id": "",
       "version_major": 2,
       "version_minor": 0
      },
      "text/plain": [
       "FloatProgress(value=0.0, bar_style='info', description='Progress:', layout=Layout(height='25px', width='50%'),…"
      ]
     },
     "metadata": {},
     "output_type": "display_data"
    }
   ],
   "source": [
    "(\n",
    "spark\n",
    ".read\n",
    ".format('xml')\n",
    ".option(\"rowTag\", \"row\")\n",
    ".load(commentsXmlPath)\n",
    ".select(\n",
    "    col('_Id').alias('id'),\n",
    "    col('_PostId').alias('postId'),\n",
    "    col('_Score').alias('score'),\n",
    "    col('_UserDisplayName').alias('userDisplayName'),\n",
    "    col('_UserId').alias('userId'),\n",
    "    (col('_CreationDate').cast('timestamp')).alias('creationDate')\n",
    ")\n",
    ".write\n",
    ".mode('overwrite')\n",
    ".format('parquet')\n",
    ".option('path', commentsParquetPath)\n",
    ".save()\n",
    ")"
   ]
  },
  {
   "cell_type": "code",
   "execution_count": 41,
   "id": "d408fe2a-3d37-45bb-afd2-cb5b33a067e5",
   "metadata": {
    "execution": {
     "iopub.execute_input": "2022-02-03T22:34:57.530012Z",
     "iopub.status.busy": "2022-02-03T22:34:57.529699Z",
     "iopub.status.idle": "2022-02-03T22:34:59.040307Z",
     "shell.execute_reply": "2022-02-03T22:34:59.039268Z",
     "shell.execute_reply.started": "2022-02-03T22:34:57.529978Z"
    },
    "tags": []
   },
   "outputs": [
    {
     "data": {
      "application/vnd.jupyter.widget-view+json": {
       "model_id": "57ee74e095544adea7f841c90d1ff3c9",
       "version_major": 2,
       "version_minor": 0
      },
      "text/plain": [
       "VBox()"
      ]
     },
     "metadata": {},
     "output_type": "display_data"
    },
    {
     "data": {
      "application/vnd.jupyter.widget-view+json": {
       "model_id": "",
       "version_major": 2,
       "version_minor": 0
      },
      "text/plain": [
       "FloatProgress(value=0.0, bar_style='info', description='Progress:', layout=Layout(height='25px', width='50%'),…"
      ]
     },
     "metadata": {},
     "output_type": "display_data"
    },
    {
     "name": "stdout",
     "output_type": "stream",
     "text": [
      "+-------+------------------+-----------------+-------------------+--------------------+-----------------+\n",
      "|summary|                id|           postId|              score|     userDisplayName|           userId|\n",
      "+-------+------------------+-----------------+-------------------+--------------------+-----------------+\n",
      "|  count|           1715009|          1715009|            1715009|               41838|          1672905|\n",
      "|   mean|1288584.4733211312|861431.0809989918|0.37343535806517636|  2042484.2222222222|283587.2349553621|\n",
      "| stddev| 760249.9015245036|475601.8808441577| 1.9892390586296198|  3527789.0424768096|315561.8448748035|\n",
      "|    min|                32|                1|                  0|                 ...|               -1|\n",
      "|    max|           2600318|          1691310|                365|              이광수|          1646746|\n",
      "+-------+------------------+-----------------+-------------------+--------------------+-----------------+"
     ]
    }
   ],
   "source": [
    "comments = spark.read.parquet(commentsParquetPath).cache()\n",
    "\n",
    "comments.describe().show()"
   ]
  },
  {
   "cell_type": "code",
   "execution_count": 14,
   "id": "c773ac78-a1c0-40ff-ae6d-0f2451f3b67d",
   "metadata": {
    "execution": {
     "iopub.execute_input": "2022-02-03T22:36:39.097190Z",
     "iopub.status.busy": "2022-02-03T22:36:39.096846Z",
     "iopub.status.idle": "2022-02-03T22:36:39.911320Z",
     "shell.execute_reply": "2022-02-03T22:36:39.907989Z",
     "shell.execute_reply.started": "2022-02-03T22:36:39.097158Z"
    },
    "tags": []
   },
   "outputs": [
    {
     "data": {
      "application/vnd.jupyter.widget-view+json": {
       "model_id": "a870f23798ab4f97aef990d5ac0b717b",
       "version_major": 2,
       "version_minor": 0
      },
      "text/plain": [
       "VBox()"
      ]
     },
     "metadata": {},
     "output_type": "display_data"
    },
    {
     "data": {
      "application/vnd.jupyter.widget-view+json": {
       "model_id": "",
       "version_major": 2,
       "version_minor": 0
      },
      "text/plain": [
       "FloatProgress(value=0.0, bar_style='info', description='Progress:', layout=Layout(height='25px', width='50%'),…"
      ]
     },
     "metadata": {},
     "output_type": "display_data"
    }
   ],
   "source": [
    "questions = posts.filter(col('postTypeId') == 1).cache()\n",
    "answers = posts.filter(col('postTypeId') == 2).cache()"
   ]
  },
  {
   "cell_type": "code",
   "execution_count": 46,
   "id": "09f80624-710f-431c-bc44-315fc874a291",
   "metadata": {
    "execution": {
     "iopub.execute_input": "2022-02-03T22:53:42.771678Z",
     "iopub.status.busy": "2022-02-03T22:53:42.771421Z",
     "iopub.status.idle": "2022-02-03T22:53:43.243401Z",
     "shell.execute_reply": "2022-02-03T22:53:43.242670Z",
     "shell.execute_reply.started": "2022-02-03T22:53:42.771651Z"
    },
    "tags": []
   },
   "outputs": [
    {
     "data": {
      "application/vnd.jupyter.widget-view+json": {
       "model_id": "5fcb75d42d064d73acc8496fc398d5b7",
       "version_major": 2,
       "version_minor": 0
      },
      "text/plain": [
       "VBox()"
      ]
     },
     "metadata": {},
     "output_type": "display_data"
    },
    {
     "data": {
      "application/vnd.jupyter.widget-view+json": {
       "model_id": "",
       "version_major": 2,
       "version_minor": 0
      },
      "text/plain": [
       "FloatProgress(value=0.0, bar_style='info', description='Progress:', layout=Layout(height='25px', width='50%'),…"
      ]
     },
     "metadata": {},
     "output_type": "display_data"
    },
    {
     "name": "stdout",
     "output_type": "stream",
     "text": [
      "+-------+------------------+------------------+\n",
      "|summary|                id| commentTimeInSecs|\n",
      "+-------+------------------+------------------+\n",
      "|  count|            881300|            881300|\n",
      "|   mean| 959708.7515965052| 4659149.690460683|\n",
      "| stddev|453699.06053573964|2.55753034130819E7|\n",
      "|    min|                 1|                 4|\n",
      "|    max|           1691310|         405883625|\n",
      "+-------+------------------+------------------+"
     ]
    }
   ],
   "source": [
    "commentTimeInSecs = (\n",
    "    questions.alias('questions')\n",
    "    .join(comments.alias('comments'), col('questions.id') == col('comments.postId'))\n",
    "    .select(\n",
    "        col('questions.id'),\n",
    "        col('questions.creationDate').alias('questionCreationDate'),\n",
    "        col('comments.creationDate').alias('commentCreationDate')\n",
    "    )\n",
    "    .withColumn('commentTimeInSecs', unix_timestamp('commentCreationDate') - unix_timestamp('questionCreationDate'))\n",
    "    .filter(col('commentTimeInSecs') > 0)\n",
    "    .orderBy('commentTimeInSecs')\n",
    ")\n",
    "\n",
    "commentTimeInSecs.describe().show()"
   ]
  },
  {
   "cell_type": "code",
   "execution_count": 32,
   "id": "7ae4ec0e-df62-40a3-8b61-f9e58de716c7",
   "metadata": {
    "execution": {
     "iopub.execute_input": "2022-02-03T22:57:26.737504Z",
     "iopub.status.busy": "2022-02-03T22:57:26.736954Z",
     "iopub.status.idle": "2022-02-03T22:57:29.430512Z",
     "shell.execute_reply": "2022-02-03T22:57:29.429303Z",
     "shell.execute_reply.started": "2022-02-03T22:57:26.737461Z"
    },
    "tags": []
   },
   "outputs": [
    {
     "data": {
      "application/vnd.jupyter.widget-view+json": {
       "model_id": "62620692229046ce9667c0a164bada9c",
       "version_major": 2,
       "version_minor": 0
      },
      "text/plain": [
       "VBox()"
      ]
     },
     "metadata": {},
     "output_type": "display_data"
    },
    {
     "data": {
      "application/vnd.jupyter.widget-view+json": {
       "model_id": "",
       "version_major": 2,
       "version_minor": 0
      },
      "text/plain": [
       "FloatProgress(value=0.0, bar_style='info', description='Progress:', layout=Layout(height='25px', width='50%'),…"
      ]
     },
     "metadata": {},
     "output_type": "display_data"
    },
    {
     "name": "stdout",
     "output_type": "stream",
     "text": [
      "<matplotlib.axes._subplots.AxesSubplot object at 0x7f9ea1243f50>"
     ]
    }
   ],
   "source": [
    "commentsWithin60minutes = (\n",
    "    commentTimeInSecs\n",
    "    .withColumn('minutes', ceil(col('commentTimeInSecs') / 60))\n",
    "    .groupBy('minutes')\n",
    "    .agg(count('*').alias('count'))\n",
    "    .orderBy('minutes')\n",
    "    .limit(60)\n",
    ").toPandas()\n",
    "\n",
    "commentsWithin60minutes.plot(\n",
    "    title='Number of comments to questions within first 60 minutes',\n",
    "    x='minutes',\n",
    "    xlabel='Time after question published in minutes',\n",
    "    y='count',\n",
    "    ylabel='Number of comments',\n",
    "    kind='bar',\n",
    "    legend=False,\n",
    "    figsize=(15,7), \n",
    ")"
   ]
  },
  {
   "cell_type": "code",
   "execution_count": 35,
   "id": "8558ab3b-492f-4c49-a488-75b79220d1bd",
   "metadata": {
    "execution": {
     "iopub.execute_input": "2022-02-03T22:57:33.469508Z",
     "iopub.status.busy": "2022-02-03T22:57:33.469258Z",
     "iopub.status.idle": "2022-02-03T22:57:34.340864Z",
     "shell.execute_reply": "2022-02-03T22:57:34.339856Z",
     "shell.execute_reply.started": "2022-02-03T22:57:33.469479Z"
    },
    "tags": []
   },
   "outputs": [
    {
     "data": {
      "application/vnd.jupyter.widget-view+json": {
       "model_id": "",
       "version_major": 2,
       "version_minor": 0
      },
      "text/plain": [
       "FloatProgress(value=0.0, bar_style='info', description='Progress:', layout=Layout(height='25px', width='50%'),…"
      ]
     },
     "metadata": {},
     "output_type": "display_data"
    },
    {
     "data": {
      "image/png": "[encoded data removed]",
      "text/plain": [
       "<IPython.core.display.Image object>"
      ]
     },
     "metadata": {},
     "output_type": "display_data"
    }
   ],
   "source": [
    "%matplot plot"
   ]
  },
  {
   "cell_type": "code",
   "execution_count": 39,
   "id": "55130f61-3f31-446b-a56c-3cc0d7a94780",
   "metadata": {
    "execution": {
     "iopub.execute_input": "2022-02-03T22:59:00.367125Z",
     "iopub.status.busy": "2022-02-03T22:59:00.366811Z",
     "iopub.status.idle": "2022-02-03T22:59:03.202032Z",
     "shell.execute_reply": "2022-02-03T22:59:03.201180Z",
     "shell.execute_reply.started": "2022-02-03T22:59:00.367094Z"
    }
   },
   "outputs": [
    {
     "data": {
      "application/vnd.jupyter.widget-view+json": {
       "model_id": "65f9c3cfd6734a18a7a8d9f85b67b203",
       "version_major": 2,
       "version_minor": 0
      },
      "text/plain": [
       "VBox()"
      ]
     },
     "metadata": {},
     "output_type": "display_data"
    },
    {
     "data": {
      "application/vnd.jupyter.widget-view+json": {
       "model_id": "",
       "version_major": 2,
       "version_minor": 0
      },
      "text/plain": [
       "FloatProgress(value=0.0, bar_style='info', description='Progress:', layout=Layout(height='25px', width='50%'),…"
      ]
     },
     "metadata": {},
     "output_type": "display_data"
    },
    {
     "data": {
      "image/png": "[encoded data removed]",
      "text/plain": [
       "<IPython.core.display.Image object>"
      ]
     },
     "metadata": {},
     "output_type": "display_data"
    }
   ],
   "source": [
    "commentsWithin24hours = (\n",
    "    commentTimeInSecs\n",
    "    .withColumn('hours', ceil(col('commentTimeInSecs') / 3600))\n",
    "    .groupBy('hours')\n",
    "    .agg(count('*').alias('count'))\n",
    "    .orderBy('hours')\n",
    "    .limit(24)\n",
    ").toPandas()\n",
    "\n",
    "commentsWithin24hours.plot(\n",
    "    title='Number of comments to questions within first 24 hours',\n",
    "    x='hours',\n",
    "    xlabel='Time after question published in hours',\n",
    "    y='count',\n",
    "    ylabel='Number of comments',\n",
    "    kind='bar',\n",
    "    legend=False,\n",
    "    figsize=(15,7), \n",
    ")\n",
    "\n",
    "%matplot plot"
   ]
  },
  {
   "cell_type": "code",
   "execution_count": 40,
   "id": "d108cac8-cd14-48e7-9d96-1d32949e87d0",
   "metadata": {
    "execution": {
     "iopub.execute_input": "2022-02-03T23:00:06.799895Z",
     "iopub.status.busy": "2022-02-03T23:00:06.799647Z",
     "iopub.status.idle": "2022-02-03T23:00:08.403409Z",
     "shell.execute_reply": "2022-02-03T23:00:08.402555Z",
     "shell.execute_reply.started": "2022-02-03T23:00:06.799867Z"
    }
   },
   "outputs": [
    {
     "data": {
      "application/vnd.jupyter.widget-view+json": {
       "model_id": "f1d8fa76fb0143f2b928a190aee09f6c",
       "version_major": 2,
       "version_minor": 0
      },
      "text/plain": [
       "VBox()"
      ]
     },
     "metadata": {},
     "output_type": "display_data"
    },
    {
     "data": {
      "application/vnd.jupyter.widget-view+json": {
       "model_id": "",
       "version_major": 2,
       "version_minor": 0
      },
      "text/plain": [
       "FloatProgress(value=0.0, bar_style='info', description='Progress:', layout=Layout(height='25px', width='50%'),…"
      ]
     },
     "metadata": {},
     "output_type": "display_data"
    },
    {
     "data": {
      "image/png": "[encoded data removed]",
      "text/plain": [
       "<IPython.core.display.Image object>"
      ]
     },
     "metadata": {},
     "output_type": "display_data"
    }
   ],
   "source": [
    "commentsWithin30days = (\n",
    "    commentTimeInSecs\n",
    "    .withColumn('days', ceil(col('commentTimeInSecs') / 86400))\n",
    "    .groupBy('days')\n",
    "    .agg(count('*').alias('count'))\n",
    "    .orderBy('days')\n",
    "    .limit(30)\n",
    ").toPandas()\n",
    "\n",
    "commentsWithin30days.plot(\n",
    "    title='Number of comments to questions within first 30 days',\n",
    "    x='days',\n",
    "    xlabel='Time after question published in days',\n",
    "    y='count',\n",
    "    ylabel='Number of comments',\n",
    "    kind='bar',\n",
    "    legend=False,\n",
    "    figsize=(15,7), \n",
    ")\n",
    "\n",
    "%matplot plot"
   ]
  },
  {
   "cell_type": "code",
   "execution_count": 43,
   "id": "0ff31dc3-acd8-4ae2-802f-ebd9353e29ad",
   "metadata": {
    "execution": {
     "iopub.execute_input": "2022-02-03T23:03:25.399140Z",
     "iopub.status.busy": "2022-02-03T23:03:25.398786Z",
     "iopub.status.idle": "2022-02-03T23:03:26.688021Z",
     "shell.execute_reply": "2022-02-03T23:03:26.687377Z",
     "shell.execute_reply.started": "2022-02-03T23:03:25.399107Z"
    },
    "tags": []
   },
   "outputs": [
    {
     "data": {
      "application/vnd.jupyter.widget-view+json": {
       "model_id": "3bd09b747ea243eeaad3e1a4ce13461a",
       "version_major": 2,
       "version_minor": 0
      },
      "text/plain": [
       "VBox()"
      ]
     },
     "metadata": {},
     "output_type": "display_data"
    },
    {
     "data": {
      "application/vnd.jupyter.widget-view+json": {
       "model_id": "",
       "version_major": 2,
       "version_minor": 0
      },
      "text/plain": [
       "FloatProgress(value=0.0, bar_style='info', description='Progress:', layout=Layout(height='25px', width='50%'),…"
      ]
     },
     "metadata": {},
     "output_type": "display_data"
    },
    {
     "name": "stdout",
     "output_type": "stream",
     "text": [
      "53.92534363959123"
     ]
    }
   ],
   "source": [
    "avgCommentTimeInDays = (\n",
    "    questions.alias('questions')\n",
    "    .join(comments.alias('comments'), col('questions.id') == col('comments.postId'))\n",
    "    .select(\n",
    "        col('questions.id'),\n",
    "        col('questions.creationDate').alias('questionCreationDate'),\n",
    "        col('comments.creationDate').alias('commentCreationDate')\n",
    "    )\n",
    "    .withColumn('commentTimeInSecs', unix_timestamp('commentCreationDate') - unix_timestamp('questionCreationDate'))\n",
    "    .filter(col('commentTimeInSecs') > 0)\n",
    "    .agg({'commentTimeInSecs': 'avg'}).collect()[0][0]/3600/24\n",
    ")\n",
    "\n",
    "avgCommentTimeInDays"
   ]
  },
  {
   "cell_type": "code",
   "execution_count": 21,
   "id": "380294d9-8c16-4f6e-bad1-168b806b1228",
   "metadata": {
    "execution": {
     "iopub.execute_input": "2022-02-03T23:05:49.751831Z",
     "iopub.status.busy": "2022-02-03T23:05:49.751406Z",
     "iopub.status.idle": "2022-02-03T23:05:51.044039Z",
     "shell.execute_reply": "2022-02-03T23:05:51.043330Z",
     "shell.execute_reply.started": "2022-02-03T23:05:49.751797Z"
    },
    "tags": []
   },
   "outputs": [
    {
     "data": {
      "application/vnd.jupyter.widget-view+json": {
       "model_id": "77aa68e21d91409abb7fbdc94d06c76e",
       "version_major": 2,
       "version_minor": 0
      },
      "text/plain": [
       "VBox()"
      ]
     },
     "metadata": {},
     "output_type": "display_data"
    },
    {
     "data": {
      "application/vnd.jupyter.widget-view+json": {
       "model_id": "",
       "version_major": 2,
       "version_minor": 0
      },
      "text/plain": [
       "FloatProgress(value=0.0, bar_style='info', description='Progress:', layout=Layout(height='25px', width='50%'),…"
      ]
     },
     "metadata": {},
     "output_type": "display_data"
    },
    {
     "name": "stdout",
     "output_type": "stream",
     "text": [
      "29.04407220317314"
     ]
    }
   ],
   "source": [
    "avgAnswerTimeInDays = (\n",
    "    questions.alias('questions')\n",
    "    .join(answers.alias('answers'), col('questions.acceptedAnswerId') == col('answers.id'))\n",
    "    .select(\n",
    "        col('questions.id'),\n",
    "        col('questions.creationDate').alias('questionCreationDate'),\n",
    "        col('answers.creationDate').alias('answerCreationDate')\n",
    "    )\n",
    "    .withColumn('answerTimeInSecs', unix_timestamp('answerCreationDate') - unix_timestamp('questionCreationDate'))\n",
    "    .agg({'answerTimeInSecs': 'avg'}).collect()[0][0]/3600/24\n",
    ")\n",
    "\n",
    "avgAnswerTimeInDays"
   ]
  },
  {
   "cell_type": "code",
   "execution_count": 47,
   "id": "b67d2c72-186f-431a-8374-8af3f4fbe7fc",
   "metadata": {
    "execution": {
     "iopub.execute_input": "2022-02-03T23:07:18.216352Z",
     "iopub.status.busy": "2022-02-03T23:07:18.215858Z",
     "iopub.status.idle": "2022-02-03T23:07:21.806738Z",
     "shell.execute_reply": "2022-02-03T23:07:21.805910Z",
     "shell.execute_reply.started": "2022-02-03T23:07:18.216311Z"
    }
   },
   "outputs": [
    {
     "data": {
      "application/vnd.jupyter.widget-view+json": {
       "model_id": "f1953f8dd5bf4f31bbe220ae2e9b9c0d",
       "version_major": 2,
       "version_minor": 0
      },
      "text/plain": [
       "VBox()"
      ]
     },
     "metadata": {},
     "output_type": "display_data"
    },
    {
     "data": {
      "application/vnd.jupyter.widget-view+json": {
       "model_id": "",
       "version_major": 2,
       "version_minor": 0
      },
      "text/plain": [
       "FloatProgress(value=0.0, bar_style='info', description='Progress:', layout=Layout(height='25px', width='50%'),…"
      ]
     },
     "metadata": {},
     "output_type": "display_data"
    }
   ],
   "source": [
    "(\n",
    "spark\n",
    ".read\n",
    ".format('xml')\n",
    ".option(\"rowTag\", \"row\")\n",
    ".load(usersXmlPath)\n",
    ".select(\n",
    "    col('_Id').alias('id'),\n",
    "    col('_Reputation').alias('reputation'),\n",
    "    col('_DisplayName').alias('displayName'),\n",
    "    (col('_CreationDate').cast('timestamp')).alias('creationDate')\n",
    ")\n",
    ".write\n",
    ".mode('overwrite')\n",
    ".format('parquet')\n",
    ".option('path', usersParquetPath)\n",
    ".save()\n",
    ")\n",
    "\n",
    "users = spark.read.parquet(usersParquetPath).cache()"
   ]
  },
  {
   "cell_type": "code",
   "execution_count": 49,
   "id": "923c1a3e-ac73-4967-9f82-7bd1e7fe6b59",
   "metadata": {
    "execution": {
     "iopub.execute_input": "2022-02-03T23:09:43.701003Z",
     "iopub.status.busy": "2022-02-03T23:09:43.700655Z",
     "iopub.status.idle": "2022-02-03T23:09:44.234513Z",
     "shell.execute_reply": "2022-02-03T23:09:44.204100Z",
     "shell.execute_reply.started": "2022-02-03T23:09:43.700971Z"
    },
    "tags": []
   },
   "outputs": [
    {
     "data": {
      "application/vnd.jupyter.widget-view+json": {
       "model_id": "1468a186fbe84e99bf5e59a931d0cb9e",
       "version_major": 2,
       "version_minor": 0
      },
      "text/plain": [
       "VBox()"
      ]
     },
     "metadata": {},
     "output_type": "display_data"
    },
    {
     "data": {
      "application/vnd.jupyter.widget-view+json": {
       "model_id": "",
       "version_major": 2,
       "version_minor": 0
      },
      "text/plain": [
       "FloatProgress(value=0.0, bar_style='info', description='Progress:', layout=Layout(height='25px', width='50%'),…"
      ]
     },
     "metadata": {},
     "output_type": "display_data"
    }
   ],
   "source": [
    "reputationCommentsHourly = (\n",
    "    questions.alias('questions')\n",
    "    .join(comments.alias('comments'), col('questions.id') == col('comments.postId'))\n",
    "    .join(users.alias('users'), col('users.id') == col('comments.userId'))\n",
    "    .select(\n",
    "        col('questions.id'),\n",
    "        col('questions.creationDate').alias('questionCreationDate'),\n",
    "        col('comments.creationDate').alias('commentCreationDate'),\n",
    "        col('users.reputation').alias('commentReputation')\n",
    "    )\n",
    "    .withColumn('commentTime', unix_timestamp('commentCreationDate') - unix_timestamp('questionCreationDate'))\n",
    "    .filter(col('commentTime') > 0)\n",
    "    .withColumn('hours', ceil(col('commentTime') / 3600))\n",
    "    .groupBy('hours')\n",
    "    .agg({'commentReputation': 'avg'})\n",
    "    .orderBy('hours')\n",
    ")"
   ]
  },
  {
   "cell_type": "code",
   "execution_count": 54,
   "id": "7911ef01-ac0a-4bb9-8a43-34823aee9a89",
   "metadata": {
    "execution": {
     "iopub.execute_input": "2022-02-03T23:15:29.609643Z",
     "iopub.status.busy": "2022-02-03T23:15:29.609377Z",
     "iopub.status.idle": "2022-02-03T23:15:31.205623Z",
     "shell.execute_reply": "2022-02-03T23:15:31.114652Z",
     "shell.execute_reply.started": "2022-02-03T23:15:29.609614Z"
    },
    "tags": []
   },
   "outputs": [
    {
     "data": {
      "application/vnd.jupyter.widget-view+json": {
       "model_id": "745dcf11f79a4d98b3b07d42b282419b",
       "version_major": 2,
       "version_minor": 0
      },
      "text/plain": [
       "VBox()"
      ]
     },
     "metadata": {},
     "output_type": "display_data"
    },
    {
     "data": {
      "application/vnd.jupyter.widget-view+json": {
       "model_id": "",
       "version_major": 2,
       "version_minor": 0
      },
      "text/plain": [
       "FloatProgress(value=0.0, bar_style='info', description='Progress:', layout=Layout(height='25px', width='50%'),…"
      ]
     },
     "metadata": {},
     "output_type": "display_data"
    },
    {
     "data": {
      "image/png": "[encoded data removed]",
      "text/plain": [
       "<IPython.core.display.Image object>"
      ]
     },
     "metadata": {},
     "output_type": "display_data"
    }
   ],
   "source": [
    "reputationCommentsHourly.limit(100).toPandas().plot(\n",
    "    title='Reputation of user commenting within 100 hours',\n",
    "    x='hours',\n",
    "    xlabel='Time after question published in hours',\n",
    "    y='avg(commentReputation)',\n",
    "    ylabel='Average reputation value',\n",
    "    kind='bar',\n",
    "    legend=False,\n",
    "    figsize=(15,7)\n",
    ")\n",
    "\n",
    "%matplot plot"
   ]
  },
  {
   "cell_type": "code",
   "execution_count": 52,
   "id": "db6fe4eb-dff0-444e-bab9-df4ae15b6f5f",
   "metadata": {
    "execution": {
     "iopub.execute_input": "2022-02-03T23:15:59.030228Z",
     "iopub.status.busy": "2022-02-03T23:15:59.029822Z",
     "iopub.status.idle": "2022-02-03T23:16:01.964274Z",
     "shell.execute_reply": "2022-02-03T23:16:01.962071Z",
     "shell.execute_reply.started": "2022-02-03T23:15:59.030188Z"
    }
   },
   "outputs": [
    {
     "data": {
      "application/vnd.jupyter.widget-view+json": {
       "model_id": "c1fdfea2b55441f2a6fa35df35c6d8f4",
       "version_major": 2,
       "version_minor": 0
      },
      "text/plain": [
       "VBox()"
      ]
     },
     "metadata": {},
     "output_type": "display_data"
    },
    {
     "data": {
      "application/vnd.jupyter.widget-view+json": {
       "model_id": "",
       "version_major": 2,
       "version_minor": 0
      },
      "text/plain": [
       "FloatProgress(value=0.0, bar_style='info', description='Progress:', layout=Layout(height='25px', width='50%'),…"
      ]
     },
     "metadata": {},
     "output_type": "display_data"
    },
    {
     "data": {
      "image/png": "[encoded data removed]",
      "text/plain": [
       "<IPython.core.display.Image object>"
      ]
     },
     "metadata": {},
     "output_type": "display_data"
    }
   ],
   "source": [
    "reputationCommentsDaily = (\n",
    "    questions.alias('questions')\n",
    "    .join(comments.alias('comments'), col('questions.id') == col('comments.postId'))\n",
    "    .join(users.alias('users'), col('users.id') == col('comments.userId'))\n",
    "    .select(\n",
    "        col('questions.id'),\n",
    "        col('questions.creationDate').alias('questionCreationDate'),\n",
    "        col('comments.creationDate').alias('commentCreationDate'),\n",
    "        col('users.reputation').alias('commentReputation')\n",
    "    )\n",
    "    .withColumn('commentTime', unix_timestamp('commentCreationDate') - unix_timestamp('questionCreationDate'))\n",
    "    .filter(col('commentTime') > 0)\n",
    "    .withColumn('days', ceil(col('commentTime') / 3600 / 24))\n",
    "    .groupBy('days')\n",
    "    .agg({'commentReputation': 'avg'})\n",
    "    .orderBy('days')\n",
    ")\n",
    "\n",
    "reputationCommentsDaily.limit(30).toPandas().plot(\n",
    "    title='Reputation of user commenting within 30 days',\n",
    "    x='days',\n",
    "    xlabel='Time after question published in days',\n",
    "    y='avg(commentReputation)',\n",
    "    ylabel='Average reputation value',\n",
    "    kind='bar',\n",
    "    legend=False,\n",
    "    figsize=(15,7)\n",
    ")\n",
    "\n",
    "%matplot plot"
   ]
  },
  {
   "cell_type": "code",
   "execution_count": 26,
   "id": "0f54fbb4-de37-4d9c-92cd-1f8580303b8b",
   "metadata": {
    "execution": {
     "iopub.execute_input": "2022-02-03T23:20:47.254804Z",
     "iopub.status.busy": "2022-02-03T23:20:47.254551Z",
     "iopub.status.idle": "2022-02-03T23:20:48.847237Z",
     "shell.execute_reply": "2022-02-03T23:20:48.846517Z",
     "shell.execute_reply.started": "2022-02-03T23:20:47.254776Z"
    }
   },
   "outputs": [
    {
     "data": {
      "application/vnd.jupyter.widget-view+json": {
       "model_id": "1ffff50cd351451eb4e12f30831f962c",
       "version_major": 2,
       "version_minor": 0
      },
      "text/plain": [
       "VBox()"
      ]
     },
     "metadata": {},
     "output_type": "display_data"
    },
    {
     "data": {
      "application/vnd.jupyter.widget-view+json": {
       "model_id": "",
       "version_major": 2,
       "version_minor": 0
      },
      "text/plain": [
       "FloatProgress(value=0.0, bar_style='info', description='Progress:', layout=Layout(height='25px', width='50%'),…"
      ]
     },
     "metadata": {},
     "output_type": "display_data"
    },
    {
     "name": "stdout",
     "output_type": "stream",
     "text": [
      "+-------+-----------------+------------------+-----------------+-----------------+------------------+------------------+-----------------+\n",
      "|summary|               id|        postTypeId| acceptedAnswerId|      ownerUserId|          parentId|             score|        viewCount|\n",
      "+-------+-----------------+------------------+-----------------+-----------------+------------------+------------------+-----------------+\n",
      "|  count|          1159934|           1159934|           192647|          1130323|            682102|           1159934|           470283|\n",
      "|   mean|818774.4867690748|1.6108951026523923|747775.3927182879|319091.3533591725| 695777.3822038346| 2.781882417447889|5775.582532219961|\n",
      "| stddev|491414.0436287983|0.5447973665771906|480786.0776756186|353765.7197700805|480105.04880466487|13.988797205182149|27673.66687286863|\n",
      "|    min|                1|                 1|               42|               -1|                 1|               -69|                2|\n",
      "|    max|          1691314|                 8|          1691286|          1646794|           1691313|              2761|          3299196|\n",
      "+-------+-----------------+------------------+-----------------+-----------------+------------------+------------------+-----------------+"
     ]
    }
   ],
   "source": [
    "posts.describe().show()"
   ]
  },
  {
   "cell_type": "code",
   "execution_count": 27,
   "id": "265c8dd4-27c2-42b8-8f71-cf9032734bbf",
   "metadata": {
    "execution": {
     "iopub.execute_input": "2022-02-03T23:50:45.570071Z",
     "iopub.status.busy": "2022-02-03T23:50:45.569775Z",
     "iopub.status.idle": "2022-02-03T23:50:46.310648Z",
     "shell.execute_reply": "2022-02-03T23:50:46.309770Z",
     "shell.execute_reply.started": "2022-02-03T23:50:45.570040Z"
    },
    "tags": []
   },
   "outputs": [
    {
     "data": {
      "application/vnd.jupyter.widget-view+json": {
       "model_id": "1ca59e79b95f41bcba76d0307be823f2",
       "version_major": 2,
       "version_minor": 0
      },
      "text/plain": [
       "VBox()"
      ]
     },
     "metadata": {},
     "output_type": "display_data"
    },
    {
     "data": {
      "application/vnd.jupyter.widget-view+json": {
       "model_id": "",
       "version_major": 2,
       "version_minor": 0
      },
      "text/plain": [
       "FloatProgress(value=0.0, bar_style='info', description='Progress:', layout=Layout(height='25px', width='50%'),…"
      ]
     },
     "metadata": {},
     "output_type": "display_data"
    }
   ],
   "source": [
    "commentBeforeAfterAcceptedAnswer = (\n",
    "    questions.alias('questions')\n",
    "    .join(comments.alias('comments'), col('questions.id') == col('comments.postId'))\n",
    "    .join(answers.alias('answers'), col('questions.acceptedAnswerId') == col('answers.id'))\n",
    "    .select(\n",
    "        col('questions.id'),\n",
    "        col('questions.creationDate').alias('questionCreationDate'),\n",
    "        col('answers.id').alias('acceptedAnswerId'),\n",
    "        col('answers.creationDate').alias('acceptedAnswerDate'),\n",
    "        col('comments.creationDate').alias('commentCreationDate')\n",
    "    )\n",
    "    .withColumn('isCommentAfterAcceptedAnswer', unix_timestamp('commentCreationDate') > unix_timestamp('acceptedAnswerDate'))\n",
    "    .groupBy('isCommentAfterAcceptedAnswer').agg(count('*').alias('count'))\n",
    ")"
   ]
  },
  {
   "cell_type": "code",
   "execution_count": 28,
   "id": "42e48bc5-db11-4186-a7ab-418f3ebab198",
   "metadata": {
    "execution": {
     "iopub.execute_input": "2022-02-04T00:04:06.684620Z",
     "iopub.status.busy": "2022-02-04T00:04:06.684187Z",
     "iopub.status.idle": "2022-02-04T00:04:08.104379Z",
     "shell.execute_reply": "2022-02-04T00:04:08.030825Z",
     "shell.execute_reply.started": "2022-02-04T00:04:06.684587Z"
    },
    "tags": []
   },
   "outputs": [
    {
     "data": {
      "application/vnd.jupyter.widget-view+json": {
       "model_id": "7722261025d445269e09d1bfb4862d3f",
       "version_major": 2,
       "version_minor": 0
      },
      "text/plain": [
       "VBox()"
      ]
     },
     "metadata": {},
     "output_type": "display_data"
    },
    {
     "data": {
      "application/vnd.jupyter.widget-view+json": {
       "model_id": "",
       "version_major": 2,
       "version_minor": 0
      },
      "text/plain": [
       "FloatProgress(value=0.0, bar_style='info', description='Progress:', layout=Layout(height='25px', width='50%'),…"
      ]
     },
     "metadata": {},
     "output_type": "display_data"
    },
    {
     "name": "stdout",
     "output_type": "stream",
     "text": [
      "+----------------------------+------+\n",
      "|isCommentAfterAcceptedAnswer| count|\n",
      "+----------------------------+------+\n",
      "|                        true|102765|\n",
      "|                       false|206192|\n",
      "+----------------------------+------+"
     ]
    }
   ],
   "source": [
    "# Number of comments to questions that came before/after a question received accepted answer\n",
    "\n",
    "commentBeforeAfterAcceptedAnswer.show()"
   ]
  }
 ],
 "metadata": {
  "kernelspec": {
   "display_name": "PySpark",
   "language": "",
   "name": "pysparkkernel"
  },
  "language_info": {
   "codemirror_mode": {
    "name": "python",
    "version": 2
   },
   "mimetype": "text/x-python",
   "name": "pyspark",
   "pygments_lexer": "python2"
  }
 },
 "nbformat": 4,
 "nbformat_minor": 5
}
